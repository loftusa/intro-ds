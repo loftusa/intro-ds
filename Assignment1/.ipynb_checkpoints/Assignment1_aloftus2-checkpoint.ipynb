{
 "cells": [
  {
   "cell_type": "markdown",
   "metadata": {
    "slideshow": {
     "slide_type": "slide"
    }
   },
   "source": [
    "<hr/>\n",
    "\n",
    "# Data Mining\n",
    "\n",
    "\n",
    "<hr/>"
   ]
  },
  {
   "cell_type": "markdown",
   "metadata": {
    "slideshow": {
     "slide_type": "slide"
    }
   },
   "source": [
    "<h2><font color=\"darkblue\">Assignment 1</font></h2>\n",
    "\n",
    "For these problems, you can use any of the `numpy` and `matplotlib` routines but not those in `scipy` or `sklearn`\n",
    "\n",
    "#### Deadline\n",
    "Homework is due in a week, and should be submitted on Blackboard. Don't wait till the last minute!\n",
    "\n",
    "####  Work alone!\n",
    "Please work on your own solving these assignments! "
   ]
  },
  {
   "cell_type": "code",
   "execution_count": 124,
   "metadata": {},
   "outputs": [],
   "source": [
    "import numpy as np\n",
    "import matplotlib.pyplot as plt\n",
    "import pandas as pd\n",
    "import seaborn as sns\n",
    "\n",
    "%matplotlib inline\n",
    "sns.set()"
   ]
  },
  {
   "cell_type": "markdown",
   "metadata": {},
   "source": [
    "\n",
    "### Problem 1\n",
    "\n",
    "Characterize the data set in this [CSV](A1-Problem1.csv) file using descriptive statistics.\n",
    "The comma-separated separated file contains just 1 column and 1000 rows.\n",
    "\n",
    "\n",
    "1. Load the data, e.g., using routines in `numpy` or `pandas` (1 pt)\n",
    "2. Calculate the mean, variance, skewness, kurtoisis using the `numpy.array` operations, e.g., `np.square()` and `np.sum()` or the appropriate methods on the `array` object (1 pt)\n",
    "3. Create a histogram of the data and plot it  (1 pt)\n",
    "4. Use KDE with Gaussian kernels to approximate the density and compare that visually to the histogram (2 pts)\n",
    "5. Summarize the results with your own words (1 pt)\n",
    "\n",
    "Total of 6 points"
   ]
  },
  {
   "cell_type": "markdown",
   "metadata": {},
   "source": [
    "#### Basic descriptive statistics"
   ]
  },
  {
   "cell_type": "code",
   "execution_count": 284,
   "metadata": {},
   "outputs": [
    {
     "name": "stdout",
     "output_type": "stream",
     "text": [
      "Mean: -48.85508510712677\n",
      "Variance: 0.40234882126160904\n",
      "Skew: 2.5273230000626037\n",
      "Kurtosis: 11.440531362725967\n"
     ]
    }
   ],
   "source": [
    "from numpy import pi, exp\n",
    "import numpy as np\n",
    "\n",
    "# 1. load data, using numpy routines\n",
    "name = \"A1-Problem1.csv\"\n",
    "data = np.sort(np.loadtxt(name))\n",
    "\n",
    "# 2. calculate mean, variance, skewness, and kurtosis\n",
    "def inner(data: np.ndarray):\n",
    "    mu = np.mean(data)\n",
    "    var = np.var(data)\n",
    "    sigma = np.sqrt(var)\n",
    "    return (data - mu) / sigma\n",
    "\n",
    "def skewness(data: np.ndarray):\n",
    "    scaled = inner(data)\n",
    "    return np.mean(scaled**3)\n",
    "\n",
    "def kurtosis(data: np.ndarray):\n",
    "    scaled = inner(data)\n",
    "    return np.mean(scaled**4)\n",
    "\n",
    "# 2. calculate mean, variance, skewness, and kurtosis\n",
    "mean = np.mean(data)\n",
    "variance = np.var(data)\n",
    "skew = skewness(data)\n",
    "kurt = kurtosis(data)\n",
    "\n",
    "print(f\"Mean: {mean}\")\n",
    "print(f\"Variance: {variance}\")\n",
    "print(f\"Skew: {skew}\")\n",
    "print(f\"Kurtosis: {kurt}\")"
   ]
  },
  {
   "cell_type": "markdown",
   "metadata": {},
   "source": [
    "#### KDE and histogram"
   ]
  },
  {
   "cell_type": "code",
   "execution_count": 286,
   "metadata": {},
   "outputs": [
    {
     "data": {
      "image/png": "[encoded data removed]",
      "text/plain": [
       "<Figure size 576x288 with 2 Axes>"
      ]
     },
     "metadata": {},
     "output_type": "display_data"
    }
   ],
   "source": [
    "def gaussian_kernel(x, mu=None, sigma=None):\n",
    "    if mu is None:\n",
    "        mu = mean(x)\n",
    "    if sigma is None:\n",
    "        sigma = sqrt(var(x))\n",
    "    return exp((-1*2)*(((x-mu)/sigma)**2))\n",
    "\n",
    "def plot_kernel_density(data, h=0.3, axis=None):\n",
    "    # h is bandwidth\n",
    "    data = np.sort(data)\n",
    "    a = np.atleast_2d(data)\n",
    "    b = a.copy().T\n",
    "    diff_matrix = (b - a)/h\n",
    "    kernels = gaussian_kernel(diff_matrix, mu=0, sigma=1)\n",
    "    out = np.sum(kernels, axis=1) * (1/(h*n))\n",
    "    \n",
    "    x_axis = np.linspace(data.min(), data.max(), len(data))\n",
    "    if axis:\n",
    "        ax[axis].plot(data, out, 'k', )\n",
    "    else:\n",
    "        plt.plot(data, out, 'k', );\n",
    "# 3. Create a histogram of the data and plot it\n",
    "# 4. Then, use KDE with Gaussian kernels to approximate density and compare\n",
    "fig, ax = plt.subplots(1, 2, figsize=(8,4))\n",
    "sns.distplot(data, hist=True, kde=False, color='k', ax=ax[0], hist_kws={'alpha':1});\n",
    "plot_kernel_density(data, axis=1)  # Looks pretty similar!"
   ]
  },
  {
   "cell_type": "markdown",
   "metadata": {},
   "source": [
    "#### Summary"
   ]
  },
  {
   "cell_type": "markdown",
   "metadata": {},
   "source": [
    "This data is roughly normally distributed at around -48, with a positive skew."
   ]
  },
  {
   "cell_type": "markdown",
   "metadata": {},
   "source": []
  },
  {
   "cell_type": "markdown",
   "metadata": {},
   "source": [
    "### Problem 2\n",
    "\n",
    "Generate random license tags with the format `A12-34B`\n",
    "\n",
    "1. Generate a random 2 digit integer (1 pt)\n",
    "2. Generate a random character (1 pt)\n",
    "3. Create a `pandas.Dataframe` that contains 25 licence tag numbers of the above format (1 pt)\n",
    "\n",
    "Total of 3 points"
   ]
  },
  {
   "cell_type": "code",
   "execution_count": null,
   "metadata": {},
   "outputs": [],
   "source": [
    "# Generate a random 2 digit integer\n",
    "np.\n",
    "\n",
    "I am typing typing typihng typing typiin\n",
    "\n",
    "# Generate a random character\n",
    "\n",
    "# Create a pandas.Dataframe that contains 25 licence tag numbers of the above format\n"
   ]
  },
  {
   "cell_type": "markdown",
   "metadata": {},
   "source": [
    "### Problem 3\n",
    "\n",
    "Draw random samples from a bivariate normal distribution with \n",
    "\n",
    "> $\\displaystyle \\quad \\mu = \\begin{bmatrix} 0 \\\\ 0\\end{bmatrix} \\quad$ \n",
    "> and \n",
    "> $\\displaystyle \\quad C = \\begin{bmatrix} 4 & 1 \\\\ 1 & 1\\end{bmatrix}$\n",
    "\n",
    "1. Generate 200 random numbers that are normally distributed, call this array `X` (1 pt)\n",
    "2. Reshape `X` to be 2 by 100 representing 100 random 2-vectors, and plot these 2-D points (1 pt)\n",
    "2. Solve the eigenproblem of the covariance matrix (1 pt)\n",
    "3. Use the eigenvalues and eigenvectors to transform `X` and calculate the final sample `Z` drawn from the bivariate normal distribution with the above $\\mu$ and $C$ (2 pts)\n",
    "4. Plot the samples (1 pt)\n",
    "\n",
    "Total of 6 points"
   ]
  },
  {
   "cell_type": "code",
   "execution_count": null,
   "metadata": {},
   "outputs": [],
   "source": []
  }
 ],
 "metadata": {
  "anaconda-cloud": {},
  "kernelspec": {
   "display_name": "Python 3",
   "language": "python",
   "name": "python3"
  },
  "language_info": {
   "codemirror_mode": {
    "name": "ipython",
    "version": 3
   },
   "file_extension": ".py",
   "mimetype": "text/x-python",
   "name": "python",
   "nbconvert_exporter": "python",
   "pygments_lexer": "ipython3",
   "version": "3.8.0"
  }
 },
 "nbformat": 4,
 "nbformat_minor": 4
}
