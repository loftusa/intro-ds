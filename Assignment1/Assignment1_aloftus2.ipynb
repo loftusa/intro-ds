{
 "cells": [
  {
   "cell_type": "markdown",
   "metadata": {
    "slideshow": {
     "slide_type": "slide"
    }
   },
   "source": [
    "<hr/>\n",
    "\n",
    "# Data Mining\n",
    "\n",
    "\n",
    "<hr/>"
   ]
  },
  {
   "cell_type": "markdown",
   "metadata": {
    "slideshow": {
     "slide_type": "slide"
    }
   },
   "source": [
    "<h2><font color=\"darkblue\">Assignment 1</font></h2>\n",
    "\n",
    "For these problems, you can use any of the `numpy` and `matplotlib` routines but not those in `scipy` or `sklearn`\n",
    "\n",
    "#### Deadline\n",
    "Homework is due in a week, and should be submitted on Blackboard. Don't wait till the last minute!\n",
    "\n",
    "####  Work alone!\n",
    "Please work on your own solving these assignments! "
   ]
  },
  {
   "cell_type": "code",
   "execution_count": 325,
   "metadata": {},
   "outputs": [],
   "source": [
    "import numpy as np\n",
    "import matplotlib.pyplot as plt\n",
    "import pandas as pd\n",
    "import seaborn as sns\n",
    "\n",
    "%matplotlib inline\n",
    "sns.set()"
   ]
  },
  {
   "cell_type": "markdown",
   "metadata": {},
   "source": [
    "\n",
    "### Problem 1\n",
    "\n",
    "Characterize the data set in this [CSV](A1-Problem1.csv) file using descriptive statistics.\n",
    "The comma-separated separated file contains just 1 column and 1000 rows.\n",
    "\n",
    "\n",
    "1. Load the data, e.g., using routines in `numpy` or `pandas` (1 pt)\n",
    "2. Calculate the mean, variance, skewness, kurtoisis using the `numpy.array` operations, e.g., `np.square()` and `np.sum()` or the appropriate methods on the `array` object (1 pt)\n",
    "3. Create a histogram of the data and plot it  (1 pt)\n",
    "4. Use KDE with Gaussian kernels to approximate the density and compare that visually to the histogram (2 pts)\n",
    "5. Summarize the results with your own words (1 pt)\n",
    "\n",
    "Total of 6 points"
   ]
  },
  {
   "cell_type": "markdown",
   "metadata": {},
   "source": [
    "#### Basic descriptive statistics"
   ]
  },
  {
   "cell_type": "code",
   "execution_count": 326,
   "metadata": {},
   "outputs": [
    {
     "name": "stdout",
     "output_type": "stream",
     "text": [
      "Mean: -48.85508510712677\n",
      "Variance: 0.40234882126160904\n",
      "Skew: 2.5273230000626037\n",
      "Kurtosis: 11.440531362725967\n"
     ]
    }
   ],
   "source": [
    "from numpy import pi, exp\n",
    "\n",
    "# 1. load data, using numpy routines\n",
    "name = \"A1-Problem1.csv\"\n",
    "data = np.sort(np.loadtxt(name))\n",
    "\n",
    "# 2. calculate mean, variance, skewness, and kurtosis\n",
    "def inner(data: np.ndarray):\n",
    "    mu = np.mean(data)\n",
    "    var = np.var(data)\n",
    "    sigma = np.sqrt(var)\n",
    "    return (data - mu) / sigma\n",
    "\n",
    "def skewness(data: np.ndarray):\n",
    "    scaled = inner(data)\n",
    "    return np.mean(scaled**3)\n",
    "\n",
    "def kurtosis(data: np.ndarray):\n",
    "    scaled = inner(data)\n",
    "    return np.mean(scaled**4)\n",
    "\n",
    "# 2. calculate mean, variance, skewness, and kurtosis\n",
    "mean = np.mean(data)\n",
    "variance = np.var(data)\n",
    "skew = skewness(data)\n",
    "kurt = kurtosis(data)\n",
    "\n",
    "print(f\"Mean: {mean}\")\n",
    "print(f\"Variance: {variance}\")\n",
    "print(f\"Skew: {skew}\")\n",
    "print(f\"Kurtosis: {kurt}\")"
   ]
  },
  {
   "cell_type": "markdown",
   "metadata": {},
   "source": [
    "#### KDE and histogram"
   ]
  },
  {
   "cell_type": "code",
   "execution_count": 331,
   "metadata": {},
   "outputs": [
    {
     "data": {
      "image/png": "[encoded data removed]",
      "text/plain": [
       "<Figure size 576x288 with 2 Axes>"
      ]
     },
     "metadata": {},
     "output_type": "display_data"
    }
   ],
   "source": [
    "def gaussian_kernel(x, mu=None, sigma=None):\n",
    "    if mu is None:\n",
    "        mu = mean(x)\n",
    "    if sigma is None:\n",
    "        sigma = sqrt(var(x))\n",
    "    return exp((-1*2)*(((x-mu)/sigma)**2))\n",
    "\n",
    "def plot_kernel_density(data, h=0.3, axis=None):\n",
    "    # h is bandwidth\n",
    "    data = np.sort(data)\n",
    "    n = len(data)\n",
    "    a = np.atleast_2d(data)\n",
    "    b = a.copy().T\n",
    "    diff_matrix = (b - a)/h\n",
    "    kernels = gaussian_kernel(diff_matrix, mu=0, sigma=1)\n",
    "    out = np.sum(kernels, axis=1) * (1/(h*n))\n",
    "    \n",
    "    x_axis = np.linspace(data.min(), data.max(), len(data))\n",
    "    if axis:\n",
    "        axis.plot(data, out, 'k', )\n",
    "    else:\n",
    "        plt.plot(data, out, 'k', );\n",
    "        \n",
    "# 3. Create a histogram of the data and plot it\n",
    "# 4. Then, use KDE with Gaussian kernels to approximate density and compare\n",
    "fig, ax = plt.subplots(1, 2, figsize=(8,4))\n",
    "sns.distplot(data, hist=True, kde=False, color='k', ax=ax[0], hist_kws={'alpha':1});\n",
    "plot_kernel_density(data, h=.23, axis=ax[1])  # Looks pretty similar!"
   ]
  },
  {
   "cell_type": "markdown",
   "metadata": {},
   "source": [
    "#### Summary"
   ]
  },
  {
   "cell_type": "markdown",
   "metadata": {},
   "source": [
    "This data is roughly normally distributed at an average of around -49, with a positive skew. There are also a few data points at around -46, giving the density function two peaks (although the rightward peak is much smaller). The variance is quite small (less than 1), with a minimum value of around -50 and a maximum value of around -45. The vast majority of the density is between -50 and -48."
   ]
  },
  {
   "cell_type": "markdown",
   "metadata": {},
   "source": [
    "### Problem 2\n",
    "\n",
    "Generate random license tags with the format `A12-34B`\n",
    "\n",
    "1. Generate a random 2 digit integer (1 pt)\n",
    "2. Generate a random character (1 pt)\n",
    "3. Create a `pandas.Dataframe` that contains 25 license tag numbers of the above format (1 pt)\n",
    "\n",
    "Total of 3 points"
   ]
  },
  {
   "cell_type": "code",
   "execution_count": 314,
   "metadata": {},
   "outputs": [
    {
     "data": {
      "text/html": [
       "<div>\n",
       "<style scoped>\n",
       "    .dataframe tbody tr th:only-of-type {\n",
       "        vertical-align: middle;\n",
       "    }\n",
       "\n",
       "    .dataframe tbody tr th {\n",
       "        vertical-align: top;\n",
       "    }\n",
       "\n",
       "    .dataframe thead th {\n",
       "        text-align: right;\n",
       "    }\n",
       "</style>\n",
       "<table border=\"1\" class=\"dataframe\">\n",
       "  <thead>\n",
       "    <tr style=\"text-align: right;\">\n",
       "      <th></th>\n",
       "      <th>License Tags</th>\n",
       "    </tr>\n",
       "  </thead>\n",
       "  <tbody>\n",
       "    <tr>\n",
       "      <th>0</th>\n",
       "      <td>Z40-23W</td>\n",
       "    </tr>\n",
       "    <tr>\n",
       "      <th>1</th>\n",
       "      <td>R31-65C</td>\n",
       "    </tr>\n",
       "    <tr>\n",
       "      <th>2</th>\n",
       "      <td>A20-58G</td>\n",
       "    </tr>\n",
       "    <tr>\n",
       "      <th>3</th>\n",
       "      <td>L79-19U</td>\n",
       "    </tr>\n",
       "    <tr>\n",
       "      <th>4</th>\n",
       "      <td>E11-32A</td>\n",
       "    </tr>\n",
       "    <tr>\n",
       "      <th>5</th>\n",
       "      <td>Z76-31K</td>\n",
       "    </tr>\n",
       "    <tr>\n",
       "      <th>6</th>\n",
       "      <td>O16-23M</td>\n",
       "    </tr>\n",
       "    <tr>\n",
       "      <th>7</th>\n",
       "      <td>M37-88J</td>\n",
       "    </tr>\n",
       "    <tr>\n",
       "      <th>8</th>\n",
       "      <td>C27-97T</td>\n",
       "    </tr>\n",
       "    <tr>\n",
       "      <th>9</th>\n",
       "      <td>A28-95Y</td>\n",
       "    </tr>\n",
       "    <tr>\n",
       "      <th>10</th>\n",
       "      <td>T27-16V</td>\n",
       "    </tr>\n",
       "    <tr>\n",
       "      <th>11</th>\n",
       "      <td>E96-96Z</td>\n",
       "    </tr>\n",
       "    <tr>\n",
       "      <th>12</th>\n",
       "      <td>T21-75E</td>\n",
       "    </tr>\n",
       "    <tr>\n",
       "      <th>13</th>\n",
       "      <td>G92-36Q</td>\n",
       "    </tr>\n",
       "    <tr>\n",
       "      <th>14</th>\n",
       "      <td>E43-85Y</td>\n",
       "    </tr>\n",
       "    <tr>\n",
       "      <th>15</th>\n",
       "      <td>L13-76M</td>\n",
       "    </tr>\n",
       "    <tr>\n",
       "      <th>16</th>\n",
       "      <td>C31-12J</td>\n",
       "    </tr>\n",
       "    <tr>\n",
       "      <th>17</th>\n",
       "      <td>H95-59C</td>\n",
       "    </tr>\n",
       "    <tr>\n",
       "      <th>18</th>\n",
       "      <td>M33-23C</td>\n",
       "    </tr>\n",
       "    <tr>\n",
       "      <th>19</th>\n",
       "      <td>D60-98U</td>\n",
       "    </tr>\n",
       "    <tr>\n",
       "      <th>20</th>\n",
       "      <td>P69-82D</td>\n",
       "    </tr>\n",
       "    <tr>\n",
       "      <th>21</th>\n",
       "      <td>W99-26V</td>\n",
       "    </tr>\n",
       "    <tr>\n",
       "      <th>22</th>\n",
       "      <td>B35-11W</td>\n",
       "    </tr>\n",
       "    <tr>\n",
       "      <th>23</th>\n",
       "      <td>D75-52H</td>\n",
       "    </tr>\n",
       "    <tr>\n",
       "      <th>24</th>\n",
       "      <td>Y43-71R</td>\n",
       "    </tr>\n",
       "  </tbody>\n",
       "</table>\n",
       "</div>"
      ],
      "text/plain": [
       "   License Tags\n",
       "0       Z40-23W\n",
       "1       R31-65C\n",
       "2       A20-58G\n",
       "3       L79-19U\n",
       "4       E11-32A\n",
       "5       Z76-31K\n",
       "6       O16-23M\n",
       "7       M37-88J\n",
       "8       C27-97T\n",
       "9       A28-95Y\n",
       "10      T27-16V\n",
       "11      E96-96Z\n",
       "12      T21-75E\n",
       "13      G92-36Q\n",
       "14      E43-85Y\n",
       "15      L13-76M\n",
       "16      C31-12J\n",
       "17      H95-59C\n",
       "18      M33-23C\n",
       "19      D60-98U\n",
       "20      P69-82D\n",
       "21      W99-26V\n",
       "22      B35-11W\n",
       "23      D75-52H\n",
       "24      Y43-71R"
      ]
     },
     "execution_count": 314,
     "metadata": {},
     "output_type": "execute_result"
    }
   ],
   "source": [
    "# Generate a random 2 digit integer\n",
    "randint = lambda: np.random.randint(10, 100)\n",
    "i = randint()\n",
    "\n",
    "# Generate a random character\n",
    "randchar = lambda: np.random.choice(list(('ABCDEFGHIJKLMNOPQRSTUVWXYZ')))\n",
    "c = randchar()\n",
    "\n",
    "# Create a pandas.Dataframe that contains 25 license tag numbers of the above format\n",
    "def make_license():\n",
    "    c1, c2 = randchar(), randchar()\n",
    "    n1, n2, = randint(), randint()\n",
    "    return f\"{c1}{n1}-{n2}{c2}\"\n",
    "\n",
    "df = pd.DataFrame([make_license() for i in range(25)], columns=[\"License Tags\"])\n",
    "df"
   ]
  },
  {
   "cell_type": "markdown",
   "metadata": {},
   "source": [
    "### Problem 3\n",
    "\n",
    "Draw random samples from a bivariate normal distribution with \n",
    "\n",
    "> $\\displaystyle \\quad \\mu = \\begin{bmatrix} 0 \\\\ 0\\end{bmatrix} \\quad$ \n",
    "> and \n",
    "> $\\displaystyle \\quad C = \\begin{bmatrix} 4 & 1 \\\\ 1 & 1\\end{bmatrix}$\n",
    "\n",
    "1. Generate 200 random numbers that are normally distributed, call this array `X` (1 pt)\n",
    "2. Reshape `X` to be 2 by 100 representing 100 random 2-vectors, and plot these 2-D points (1 pt)\n",
    "2. Solve the eigenproblem of the covariance matrix (1 pt)\n",
    "3. Use the eigenvalues and eigenvectors to transform `X` and calculate the final sample `Z` drawn from the bivariate normal distribution with the above $\\mu$ and $C$ (2 pts)\n",
    "4. Plot the samples (1 pt)\n",
    "\n",
    "Total of 6 points"
   ]
  },
  {
   "cell_type": "markdown",
   "metadata": {},
   "source": [
    "#### Data generation and plotting"
   ]
  },
  {
   "cell_type": "code",
   "execution_count": 315,
   "metadata": {},
   "outputs": [
    {
     "data": {
      "image/png": "[encoded data removed]",
      "text/plain": [
       "<Figure size 432x432 with 3 Axes>"
      ]
     },
     "metadata": {},
     "output_type": "display_data"
    }
   ],
   "source": [
    "# 1. Generate 200 random numbers that are normally distributed, call this array `X`\n",
    "# X = np.random.multivariate_normal([0, 0], np.array([[4, 1],[1, 1]]), size=100)\n",
    "# sns.jointplot(x=\"x\", y=\"y\", data=pd.DataFrame(X, columns=[\"x\", \"y\"]), xlim=(-5, 5), ylim=(-5, 5), color=\"k\", alpha=0.5);\n",
    "X = np.random.randn(200)\n",
    "\n",
    "# Reshape X to be 2 by 100 representing 100 random 2-vectors, and plot these 2-D points\n",
    "X = X.reshape(2,100)\n",
    "df = pd.DataFrame(X.T, columns=[\"x\", \"y\"])\n",
    "sns.jointplot(x=\"x\", y=\"y\", data=df, xlim=(-5, 5), ylim=(-5, 5), color=\"k\", alpha=0.5);"
   ]
  },
  {
   "cell_type": "markdown",
   "metadata": {},
   "source": [
    "#### Solve eigenproblem, X transformation"
   ]
  },
  {
   "cell_type": "code",
   "execution_count": 324,
   "metadata": {},
   "outputs": [
    {
     "name": "stdout",
     "output_type": "stream",
     "text": [
      "covmatrix: \n",
      "[[4 1]\n",
      " [1 1]]\n",
      "eigenvectors: \n",
      " [[ 0.95709203 -0.28978415]\n",
      " [ 0.28978415  0.95709203]]\n",
      "eigenvalues: [4.30277564 0.69722436] \n",
      "\n"
     ]
    },
    {
     "data": {
      "image/png": "[encoded data removed]",
      "text/plain": [
       "<Figure size 432x432 with 3 Axes>"
      ]
     },
     "metadata": {},
     "output_type": "display_data"
    }
   ],
   "source": [
    "# Solve the eigenproblem of the covariance matrix\n",
    "covmatrix = np.array([[4, 1],[1, 1]])\n",
    "eigvals, eigvecs = np.linalg.eig(covmatrix)\n",
    "\n",
    "print(f\"covmatrix: \\n{covmatrix}\")\n",
    "print(f\"eigenvectors: \\n {eigvecs}\",)\n",
    "print(f\"eigenvalues: {eigvals} \\n\")\n",
    "\n",
    "# Use the eigenvalues and eigenvectors to transform X and \n",
    "# calculate the final sample Z drawn from the bivariate normal distribution \n",
    "# with the above  𝜇  and  𝐶\n",
    "T = eigvecs @ np.sqrt(np.diag(eigvals))\n",
    "scaled_X = T @ X\n",
    "\n",
    "# Plot the samples\n",
    "df_scaled = pd.DataFrame(scaled_X.T, columns=[\"x\", \"y\"])\n",
    "sns.jointplot(x=\"x\", y=\"y\", data=df_scaled, xlim=(-5, 5), ylim=(-5, 5), color=\"k\", alpha=0.5);"
   ]
  }
 ],
 "metadata": {
  "anaconda-cloud": {},
  "kernelspec": {
   "display_name": "Python 3",
   "language": "python",
   "name": "python3"
  },
  "language_info": {
   "codemirror_mode": {
    "name": "ipython",
    "version": 3
   },
   "file_extension": ".py",
   "mimetype": "text/x-python",
   "name": "python",
   "nbconvert_exporter": "python",
   "pygments_lexer": "ipython3",
   "version": "3.8.0"
  }
 },
 "nbformat": 4,
 "nbformat_minor": 4
}
