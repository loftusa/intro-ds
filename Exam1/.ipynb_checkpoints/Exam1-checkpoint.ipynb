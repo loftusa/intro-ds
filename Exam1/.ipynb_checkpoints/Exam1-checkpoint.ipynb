{
 "cells": [
  {
   "cell_type": "markdown",
   "metadata": {},
   "source": [
    "<hr/>\n",
    "\n",
    "# Introduction to Data Science\n",
    "\n",
    "<hr/>"
   ]
  },
  {
   "cell_type": "markdown",
   "metadata": {},
   "source": [
    "<h1><font color=\"darkblue\">Exam 1</font></h1>\n",
    "\n",
    "#### Deadline\n",
    "Submission deadline is 1:15pm. Please don't wait till the last minute! Late submissions will result in discounted scores.\n",
    "\n",
    "####  Work alone!\n",
    "Please work on your own on the problems! "
   ]
  },
  {
   "cell_type": "code",
   "execution_count": 1,
   "metadata": {},
   "outputs": [],
   "source": [
    "%matplotlib inline"
   ]
  },
  {
   "cell_type": "markdown",
   "metadata": {},
   "source": [
    "### Problem 1\n",
    "\n",
    "The students were asked to sample 1000 values from a mixture of two Gaussians,\n",
    "\n",
    "$\\displaystyle \\qquad f(x) = \\frac{4}{5\\sqrt{2\\pi}} \\exp\\left(-\\frac{x^2}{2}\\right) + \\frac{1}{10\\sqrt{2\\pi}} \\exp\\left(-\\frac{(x-3)^2}{8}\\right)$,\n",
    "\n",
    "and to characterize the generated sample. Below is the solution that one of the students provided. \n",
    "\n",
    "1. Run the code and look at the output (1 pt)\n",
    "0. Understand and provide comments for each line (5 pts)\n",
    "0. Something is wrong with the plot! Fix the bug (2 pts)\n",
    "0. Summarize what you learned about the data (3 pts)\n",
    "0. Is the code correct as implemented? Why? (1 pt)\n",
    "\n",
    "Total of 12 points"
   ]
  },
  {
   "cell_type": "markdown",
   "metadata": {},
   "source": [
    "### Alexander Loftus"
   ]
  },
  {
   "cell_type": "code",
   "execution_count": 10,
   "metadata": {},
   "outputs": [
    {
     "data": {
      "image/png": "[encoded data removed]",
      "text/plain": [
       "<Figure size 432x288 with 1 Axes>"
      ]
     },
     "metadata": {
      "needs_background": "light"
     },
     "output_type": "display_data"
    }
   ],
   "source": [
    "import numpy as np  # Grab numpy (array library)\n",
    "import matplotlib.pyplot as plt  # Grab matplotlib.pyplot (plotting library)\n",
    "\n",
    "x = np.linspace(-5,10,100)  # Generate a linearly-spaced array between -5 and 10 (inclusive) with 100 values (should be 1000)\n",
    "\n",
    "f =  0.8 / np.sqrt(2*np.pi) * np.exp(-0.5 * np.square(x-0))  # Apply the first part of f to x (prior to the sum)\n",
    "f += 0.1 / np.sqrt(2*np.pi) * np.exp(-0.125 * np.square(x-3))  # Sum with the second part of f to generate an array of f(x) values\n",
    "\n",
    "# BUG HERE: plt.plot did not take x values, and so they defaulted to range(len(f))\n",
    "# Fixed by adding our linearly spaced x-values into the plot.\n",
    "plt.plot(x, f); # Plot the resulting distribution\n",
    "\n",
    "np.random.seed(seed=42)  # Generate a random seed so that values generated with `np.random` can be reproduced\n",
    "\n",
    "s1 = np.random.normal(loc=0, scale=1, size=800)  # Generate 1D array s1 of 800 datapoints where s1 ~ N(0, 1)\n",
    "s2 = np.random.normal(loc=3, scale=2, size=200)  # Generate 1D array s2 of 200 datapoints where s1 ~ N(3, 2)\n",
    "\n",
    "s = np.hstack([s1,s2])  # Generate new 1D array s where all s1 values are to the left of all s2 values (e.g., arrays are horizontally concatenated)\n",
    "\n",
    "plt.hist(s, density=True, bins=100)  # Plot histogram of s with 100 bins, with area under the history Riemann summing to 1\n",
    "plt.title((s.mean(),s.std()));  # Title plot with the mean and standard deviation of s"
   ]
  },
  {
   "cell_type": "markdown",
   "metadata": {},
   "source": [
    "### 4. Summary"
   ]
  },
  {
   "cell_type": "markdown",
   "metadata": {},
   "source": [
    "This data is normally distributed with a positive skew. It is centered at 0.644 (e.g., this is its expectation), and a standard devation of 1.79. The data, under the hood, is generated from a scaled sum of two gaussian distributions. It has a maximum value of a little over 8.05, and a minimum value of a little less than -3.24. It is implemented as a one-dimensional array, where the values are a function of linearly-spaced input values between -5 and 10. "
   ]
  },
  {
   "cell_type": "markdown",
   "metadata": {},
   "source": [
    "#### 5. Is the code correct as implemented? Why?"
   ]
  },
  {
   "cell_type": "markdown",
   "metadata": {},
   "source": [
    "No. The student was asked to pull data from the sum of two gaussians.\n",
    "\n",
    "The first, s1, is distributed as s1\\~N(0,1).  \n",
    "The second, s2, is distributed as s1\\~N(3, 2).  \n",
    "\n",
    "The student pulled properly from these distributions in f, but scaled them improperly in s1 and s2 (the constants in the left half of the gaussian equation were incorrect during histogram generation), and incorrectly generated entirely new data points for the histogram. The student should have just generated a histogram directly from f.  \n",
    "\n",
    "The student also has the wrong number of values in the array f: the student generated 100 values, when there should have been 1000."
   ]
  },
  {
   "cell_type": "markdown",
   "metadata": {},
   "source": [
    "### Problem 2\n",
    "\n",
    "The following code implements an analysis of the attached [file](Exam1-Problem2.csv). Read carefully and understand the script.  Describe the study, fix the code, and summarize the meaning of output.\n",
    "\n",
    "1. Run the code to see the output - 1 pt\n",
    "2. Describe the goal, the method, and the assumed model - 3 pts\n",
    "3. Comment every line focusing on what it does - 3 pts\n",
    "4. Fix the bug in the code and run it again - 3 pts\n",
    "5. Explain the final plot and the printed results? - 3 pts\n",
    "\n",
    "Total of 13 points possible"
   ]
  },
  {
   "cell_type": "code",
   "execution_count": 17,
   "metadata": {},
   "outputs": [
    {
     "name": "stdout",
     "output_type": "stream",
     "text": [
      "[[-1.99676641]\n",
      " [83.20967541]\n",
      " [81.7952081 ]\n",
      " [16.0770424 ]]\n",
      "0.09507176148568408\n"
     ]
    },
    {
     "data": {
      "text/html": [
       "<div>\n",
       "<style scoped>\n",
       "    .dataframe tbody tr th:only-of-type {\n",
       "        vertical-align: middle;\n",
       "    }\n",
       "\n",
       "    .dataframe tbody tr th {\n",
       "        vertical-align: top;\n",
       "    }\n",
       "\n",
       "    .dataframe thead th {\n",
       "        text-align: right;\n",
       "    }\n",
       "</style>\n",
       "<table border=\"1\" class=\"dataframe\">\n",
       "  <thead>\n",
       "    <tr style=\"text-align: right;\">\n",
       "      <th></th>\n",
       "      <th>x1</th>\n",
       "      <th>x2</th>\n",
       "      <th>x3</th>\n",
       "      <th>y</th>\n",
       "      <th>yHat</th>\n",
       "    </tr>\n",
       "  </thead>\n",
       "  <tbody>\n",
       "    <tr>\n",
       "      <th>0</th>\n",
       "      <td>-0.155677</td>\n",
       "      <td>0.086590</td>\n",
       "      <td>-0.603985</td>\n",
       "      <td>-17.459085</td>\n",
       "      <td>-17.578284</td>\n",
       "    </tr>\n",
       "    <tr>\n",
       "      <th>1</th>\n",
       "      <td>-1.867265</td>\n",
       "      <td>2.314659</td>\n",
       "      <td>0.081874</td>\n",
       "      <td>33.264698</td>\n",
       "      <td>33.272976</td>\n",
       "    </tr>\n",
       "    <tr>\n",
       "      <th>2</th>\n",
       "      <td>0.096996</td>\n",
       "      <td>-0.130143</td>\n",
       "      <td>0.324166</td>\n",
       "      <td>0.588042</td>\n",
       "      <td>0.640794</td>\n",
       "    </tr>\n",
       "  </tbody>\n",
       "</table>\n",
       "</div>"
      ],
      "text/plain": [
       "         x1        x2        x3          y       yHat\n",
       "0 -0.155677  0.086590 -0.603985 -17.459085 -17.578284\n",
       "1 -1.867265  2.314659  0.081874  33.264698  33.272976\n",
       "2  0.096996 -0.130143  0.324166   0.588042   0.640794"
      ]
     },
     "execution_count": 17,
     "metadata": {},
     "output_type": "execute_result"
    },
    {
     "data": {
      "image/png": "[encoded data removed]",
      "text/plain": [
       "<Figure size 432x288 with 1 Axes>"
      ]
     },
     "metadata": {
      "needs_background": "light"
     },
     "output_type": "display_data"
    }
   ],
   "source": [
    "import numpy as np  # Grab numpy (array library)\n",
    "import pandas as pd  # Grab pandas (to work with dataframes)\n",
    "import matplotlib.pyplot as plt  # Grab pyplot from mpl (for plotting)\n",
    "\n",
    "df = pd.read_csv('Exam1-Problem2.csv')  # Store the data file into the variable df, a pandas dataframe\n",
    "\n",
    "D = df[['x1','x2','x3']].values  # Store the values of the first three columns as the numpy array D\n",
    "n_data, n_features = D.shape  # Store the count of rows and columns as n_data (rows), n_features (columns)\n",
    "y = df.y.values.reshape((n_data,1))  # Grab the column of y-values from the dataframe as a numpy array, then unwrap to 1D, then store (could have just used np.ravel)\n",
    "\n",
    "X = np.ones((n_data, 1 + n_features));  # make a numpy array of all ones, size `n_data x n_features+1`\n",
    "X[:,1:] = D  # Make every column of X after the first be the values of D (the first column remains all 1's)\n",
    "\n",
    "# BUG HERE: neglected to get the inverse of X.T @ X\n",
    "Xpinv = np.linalg.inv(X.T @ X) @ X.T  # Get inverse of design matrix\n",
    "bHat = Xpinv @ y  # Get coefficients to predict y-values\n",
    "yHat = X @ bHat  # apply the linear regression to obtain predicted Y-values\n",
    "print(bHat)\n",
    "\n",
    "r = y - yHat  # Get array of residuals\n",
    "plt.hist(r, 15, density=True)  # Plot residuals\n",
    "rms = np.sqrt((r*r).mean())  # Get root mean squared of residuals\n",
    "print(rms)  # print out root mean squared of residuals\n",
    "\n",
    "df['yHat'] = yHat  # add predicted y column\n",
    "df[:3]  # show first 3 rows of dataframe"
   ]
  },
  {
   "cell_type": "markdown",
   "metadata": {},
   "source": [
    "#### 2. Describe the method, goal, and assumed model"
   ]
  },
  {
   "cell_type": "markdown",
   "metadata": {},
   "source": [
    "The goal is to predict the y-values, given our x-value design matrix, using least-squares regression. We first build a design matrix and then derive the best beta coefficients (bHat). We then multiply our design matrix by these coefficients to predict our y-values. We assume a linear model. "
   ]
  },
  {
   "cell_type": "markdown",
   "metadata": {},
   "source": [
    "#### Explain the final plot and printed results"
   ]
  },
  {
   "cell_type": "markdown",
   "metadata": {},
   "source": [
    "The final plot is the histogram of our residuals -- e.g., the difference between our predicted y-values and our actual y-values. This histogram is normally distributed, because our error is normally distributed (this is a property of residuals, by the central limit theorem in probability). We print the root-mean squared of the residuals, an outlier-sensitive metric which aggregates the magnitudes of errors in prediction. "
   ]
  }
 ],
 "metadata": {
  "anaconda-cloud": {},
  "kernelspec": {
   "display_name": "Python 3",
   "language": "python",
   "name": "python3"
  },
  "language_info": {
   "codemirror_mode": {
    "name": "ipython",
    "version": 3
   },
   "file_extension": ".py",
   "mimetype": "text/x-python",
   "name": "python",
   "nbconvert_exporter": "python",
   "pygments_lexer": "ipython3",
   "version": "3.8.0"
  }
 },
 "nbformat": 4,
 "nbformat_minor": 4
}
