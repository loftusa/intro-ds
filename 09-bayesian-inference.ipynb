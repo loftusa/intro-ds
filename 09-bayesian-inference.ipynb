{
 "cells": [
  {
   "cell_type": "markdown",
   "metadata": {},
   "source": [
    "# Bayesian Inference"
   ]
  },
  {
   "cell_type": "markdown",
   "metadata": {},
   "source": [
    "- basic conditional probability\n",
    "- bayes theorem eq"
   ]
  },
  {
   "cell_type": "markdown",
   "metadata": {},
   "source": [
    "Among some observed objects 1% belongs to a special type, e.g., quasars mixed with many stars. Using a classification method, 99% of these special objects can be correctly selected. This method also selects 0.5% of the other types erroneously.\n",
    "\n",
    "What is the probability of having a special type if an object is selected by the method?"
   ]
  },
  {
   "cell_type": "code",
   "execution_count": 3,
   "metadata": {},
   "outputs": [
    {
     "data": {
      "text/plain": [
       "0.0196078431372549"
      ]
     },
     "execution_count": 3,
     "metadata": {},
     "output_type": "execute_result"
    }
   ],
   "source": [
    "ptype = .01\n",
    "p_c_g_type = .99\n",
    "p_w_g_type = 0.5\n",
    "\n",
    "(.01 *.99) / (.01*.99 + .5*.99)"
   ]
  }
 ],
 "metadata": {
  "kernelspec": {
   "display_name": "38",
   "language": "python",
   "name": "38"
  },
  "language_info": {
   "codemirror_mode": {
    "name": "ipython",
    "version": 3
   },
   "file_extension": ".py",
   "mimetype": "text/x-python",
   "name": "python",
   "nbconvert_exporter": "python",
   "pygments_lexer": "ipython3",
   "version": "3.8.0"
  }
 },
 "nbformat": 4,
 "nbformat_minor": 4
}
