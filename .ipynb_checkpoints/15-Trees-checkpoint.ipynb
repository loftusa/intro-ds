{
 "cells": [
  {
   "cell_type": "markdown",
   "metadata": {
    "slideshow": {
     "slide_type": "slide"
    }
   },
   "source": [
    "<hr/>\n",
    "\n",
    "# Introduction to Data Science\n",
    "**Tamás Budavári** - budavari@jhu.edu <br/>\n",
    "\n",
    "- Tree data structures\n",
    "- Decision trees\n",
    "\n",
    "<hr/>"
   ]
  },
  {
   "cell_type": "code",
   "execution_count": 1,
   "metadata": {},
   "outputs": [
    {
     "name": "stdout",
     "output_type": "stream",
     "text": [
      "Populating the interactive namespace from numpy and matplotlib\n"
     ]
    }
   ],
   "source": [
    "%pylab inline"
   ]
  },
  {
   "cell_type": "markdown",
   "metadata": {},
   "source": [
    "<h1><font color=\"darkblue\">Trees</font></h1>\n",
    "\n",
    "- Recursive data structures\n",
    "\n",
    "> **Recursion**<br/>\n",
    "> To know recursion, you must first know recursion.\n",
    "> <br>\n",
    "> <br>\n",
    "> **Recursive Acronyms** <br/>\n",
    ">   GNU: GNU is Not Unix <br/>\n",
    ">   LAME: LAME Ain't an MP3 Encoder<br/>\n",
    ">   PIP: PIP Installs Packages\n",
    "\n",
    "- Used everywhere\n",
    "\n",
    "> Searches, decisions, etc...\n"
   ]
  },
  {
   "cell_type": "code",
   "execution_count": 2,
   "metadata": {},
   "outputs": [],
   "source": [
    "# factorial using recursion\n",
    "def f(n):\n",
    "    if n>0: return n * f(n-1)\n",
    "    else: return 1"
   ]
  },
  {
   "cell_type": "code",
   "execution_count": 3,
   "metadata": {},
   "outputs": [
    {
     "data": {
      "text/plain": [
       "120"
      ]
     },
     "execution_count": 3,
     "metadata": {},
     "output_type": "execute_result"
    }
   ],
   "source": [
    "f(5)"
   ]
  },
  {
   "cell_type": "code",
   "execution_count": 4,
   "metadata": {
    "scrolled": false
   },
   "outputs": [
    {
     "data": {
      "text/plain": [
       "array([ 24, 120,   2])"
      ]
     },
     "execution_count": 4,
     "metadata": {},
     "output_type": "execute_result"
    }
   ],
   "source": [
    "func = np.vectorize(f)\n",
    "func([4,5,2])"
   ]
  },
  {
   "cell_type": "markdown",
   "metadata": {},
   "source": [
    "### Binary Tree\n",
    "- Connected nodes - special tree structure\n",
    "\n",
    "    - There is one **root** node\n",
    "    - Every node has a maximum of two **children** (left, right)\n",
    "    - The **leaves** are the **terminal** nodes\n",
    "\n",
    "<img src=\"https://upload.wikimedia.org/wikipedia/commons/f/f7/Binary_tree.svg\" alt=\"Binary tree.svg\" height=\"250\" width=\"200\" align=left>\n",
    "<!--\n",
    "<img src=\"files/Binary_tree.svg\" alt=\"Binary tree.svg\" height=\"250\" width=\"200\" align=left>\n",
    "-->"
   ]
  },
  {
   "cell_type": "code",
   "execution_count": 5,
   "metadata": {},
   "outputs": [],
   "source": [
    "class node(object):\n",
    "    \n",
    "    def __init__(self, data, left=None, right=None):\n",
    "        self.data = data\n",
    "        self.left = left\n",
    "        self.right = right\n",
    "   \n",
    "    def __repr__(self, i=0):\n",
    "        s = '\\t'*i + '[' + repr(self.data) + '] \\n'\n",
    "        if self.left is not None:  \n",
    "            s += self.left.__repr__(i+1)\n",
    "        if self.right: # same thing\n",
    "            s += self.right.__repr__(i+1)\n",
    "        return s"
   ]
  },
  {
   "cell_type": "code",
   "execution_count": 6,
   "metadata": {},
   "outputs": [
    {
     "name": "stdout",
     "output_type": "stream",
     "text": [
      "[2] \n",
      "\t[7] \n",
      "\t\t[2] \n",
      "\t\t[6] \n",
      "\t\t\t[5] \n",
      "\t\t\t[11] \n",
      "\t[5] \n",
      "\t\t[9] \n",
      "\t\t\t[4] \n",
      "\n"
     ]
    }
   ],
   "source": [
    "root = node(2, \n",
    "            node(7,\n",
    "                 node(2), \n",
    "                 node(6, node(5), node(11))),\n",
    "            node(5, None,\n",
    "                 node(9, node(4)))\n",
    "           )\n",
    "\n",
    "print(repr(root))"
   ]
  },
  {
   "cell_type": "code",
   "execution_count": 7,
   "metadata": {},
   "outputs": [
    {
     "name": "stdout",
     "output_type": "stream",
     "text": [
      "2\n"
     ]
    }
   ],
   "source": [
    "print (root.left.left.data)"
   ]
  },
  {
   "cell_type": "code",
   "execution_count": 8,
   "metadata": {},
   "outputs": [
    {
     "data": {
      "text/plain": [
       "[2] \n",
       "\t[7] \n",
       "\t\t[2] \n",
       "\t\t\t[99] \n",
       "\t\t\t[999] \n",
       "\t\t[6] \n",
       "\t\t\t[5] \n",
       "\t\t\t[11] \n",
       "\t[5] \n",
       "\t\t[9] \n",
       "\t\t\t[4] "
      ]
     },
     "execution_count": 8,
     "metadata": {},
     "output_type": "execute_result"
    }
   ],
   "source": [
    "root.left.left.left = node(99)\n",
    "root.left.left.right = node(999)\n",
    "root"
   ]
  },
  {
   "cell_type": "code",
   "execution_count": 9,
   "metadata": {},
   "outputs": [
    {
     "data": {
      "text/plain": [
       "9"
      ]
     },
     "execution_count": 9,
     "metadata": {},
     "output_type": "execute_result"
    }
   ],
   "source": [
    "root.right.right.data"
   ]
  },
  {
   "cell_type": "markdown",
   "metadata": {},
   "source": [
    "### $n$-ary Tree"
   ]
  },
  {
   "cell_type": "code",
   "execution_count": 10,
   "metadata": {},
   "outputs": [],
   "source": [
    "class node(object):\n",
    "    \n",
    "    def __init__(self, data, children=[]):\n",
    "        self.data = data\n",
    "        self.children = children\n",
    "        \n",
    "    def __repr__(self, i=0):\n",
    "        s = '\\t'*i + repr(self.data) + '\\n' \n",
    "        for child in self.children:\n",
    "            s += child.__repr__(i+1)\n",
    "        return s"
   ]
  },
  {
   "cell_type": "code",
   "execution_count": 11,
   "metadata": {},
   "outputs": [
    {
     "data": {
      "text/plain": [
       "2\n",
       "\t7\n",
       "\t\t2\n",
       "\t\t6\n",
       "\t\t\t5\n",
       "\t\t\t11\n",
       "\t5\n",
       "\t\t9\n",
       "\t\t\t4"
      ]
     },
     "execution_count": 11,
     "metadata": {},
     "output_type": "execute_result"
    }
   ],
   "source": [
    "# build a tree\n",
    "root = node(2, [ \n",
    "            node(7, [\n",
    "                node(2),\n",
    "                node(6, [\n",
    "                        node(5), \n",
    "                        node(11)])]),\n",
    "            node(5, [\n",
    "                node(9, [node(4)])])\n",
    "            ]);\n",
    "\n",
    "root"
   ]
  },
  {
   "cell_type": "code",
   "execution_count": 12,
   "metadata": {},
   "outputs": [
    {
     "data": {
      "text/plain": [
       "2\n",
       "\t7\n",
       "\t\t2\n",
       "\t\t6\n",
       "\t\t\t5\n",
       "\t\t\t11\n",
       "\t5\n",
       "\t\t9\n",
       "\t\t\t4\n",
       "\t999"
      ]
     },
     "execution_count": 12,
     "metadata": {},
     "output_type": "execute_result"
    }
   ],
   "source": [
    "root.children.append(node(999))\n",
    "root"
   ]
  },
  {
   "cell_type": "markdown",
   "metadata": {},
   "source": [
    "### Trees are everywhere!\n",
    "\n",
    "- Searching\n",
    "\n",
    "> $k$d-trees, B-tree, R-tree, ball trees, etc...\n",
    "> <br>\n",
    "> E.g., searching for neighbors\n",
    "\n",
    "- Decisions \n",
    "\n",
    "> E.g., for classification "
   ]
  },
  {
   "cell_type": "markdown",
   "metadata": {},
   "source": [
    "### $k$-d tree\n",
    "\n",
    "- Balanced tree\n",
    "- Split along axes\n",
    "\n",
    "Constructed from points, see Figure from Wikipedia<br/>\n",
    "{ (2,3), (5,4), (9,6), (4,7), (8,1), (7,2) }\n",
    "\n",
    "<img src=\"https://upload.wikimedia.org/wikipedia/commons/thumb/b/bf/Kdtree_2d.svg/1200px-Kdtree_2d.svg.png\" alt=\"Kdtree 2d.svg\" width=300 align=left> \n",
    "<!--\n",
    "<img src=\"files/1200px-Kdtree_2d.svg.png\" alt=\"Kdtree 2d.svg\" width=300 align=left> \n",
    "-->\n",
    "\n"
   ]
  },
  {
   "cell_type": "markdown",
   "metadata": {},
   "source": [
    "##### <h1><font color=\"darkblue\">Decision Tree</font></h1>\n",
    "\n",
    "- Recursive partitioning of the training dataset\n",
    "\n",
    "> At a given node with dataset $D$ we look for the\n",
    "> best split \n",
    "> <br>\n",
    "> <br>\n",
    "> $\\theta = $ (feature $j$, threshold $t$) \n",
    "> <br>\n",
    "> <br>\n",
    "> such that the \n",
    "> partitions $D_{\\textrm{left}}(\\theta)$ and $D_{\\textrm{right}}(\\theta)$ have minimal *impurity*\n",
    "> <br>\n",
    "> <br>\n",
    "> $\\displaystyle I(\\theta) = \\frac{n_{\\textrm{left}}}{n}\\, H\\Big(D_{\\textrm{left}}(\\theta)\\Big) + \\frac{n_{\\textrm{right}}}{n}\\,H\\Big(D_{\\textrm{right}}(\\theta)\\Big)$\n",
    "\n",
    "- Different impurity functions $H(\\cdot)$\n",
    "\n",
    "> E.g., Gini with $K$ classes in the partition $D$\n",
    "> <br>\n",
    "> <br>\n",
    ">$\\displaystyle H(D) = \\sum_{i=1}^K p_i (1-p_i)$\n",
    "> <br>\n",
    "> <br>\n",
    "> Or variance for regression\n"
   ]
  },
  {
   "cell_type": "code",
   "execution_count": 13,
   "metadata": {},
   "outputs": [
    {
     "data": {
      "image/png": "[encoded data removed]",
      "text/plain": [
       "<Figure size 216x108 with 1 Axes>"
      ]
     },
     "metadata": {
      "needs_background": "light"
     },
     "output_type": "display_data"
    }
   ],
   "source": [
    "x = np.linspace(0,1,100)\n",
    "figure(figsize=(3,1.5)); plot(x, x*(1-x));"
   ]
  },
  {
   "cell_type": "markdown",
   "metadata": {},
   "source": [
    "### Toy Example\n",
    "\n",
    "- Calculate by hand..."
   ]
  },
  {
   "cell_type": "code",
   "execution_count": 14,
   "metadata": {},
   "outputs": [
    {
     "data": {
      "image/png": "[encoded data removed]",
      "text/plain": [
       "<Figure size 216x216 with 1 Axes>"
      ]
     },
     "metadata": {
      "needs_background": "light"
     },
     "output_type": "display_data"
    }
   ],
   "source": [
    "X = np.array([[.7,0],[1,.3],[1.1,0],[.9,0],[1,0],[1,-.1],[1,.1],[1,.2]],\n",
    "             dtype=np.float)\n",
    "c = np.array([ 0,0,0,0, 1,1,1, 2], dtype=np.float)\n",
    "figure(figsize(3,3))\n",
    "subplot(111,aspect='equal'); scatter(X[:,0],X[:,1],c=c,cmap=cm.brg);"
   ]
  },
  {
   "cell_type": "markdown",
   "metadata": {},
   "source": [
    "### Gini impurity of a partition\n",
    "\n",
    "- We have 3 classes total hence the sum for the entire dataset is\n",
    "\n",
    ">$ \\displaystyle H = \\frac{4}{8}\\left(1\\!-\\!\\frac{4}{8}\\right) \n",
    "     + \\frac{3}{8}\\left(1\\!-\\!\\frac{3}{8}\\right) \n",
    "     + \\frac{1}{8}\\left(1\\!-\\!\\frac{1}{8}\\right) $ $ \\displaystyle = \\frac{16}{64}\n",
    "     + \\frac{15}{64}\n",
    "     + \\frac{7}{64}\n",
    "     = \\frac{19}{32} = 0.59375$\n",
    "     \n",
    "- This is the root of the tree"
   ]
  },
  {
   "cell_type": "code",
   "execution_count": 15,
   "metadata": {},
   "outputs": [
    {
     "name": "stdout",
     "output_type": "stream",
     "text": [
      "[8 2 6]\n",
      "[0.59375    0.         0.61111111]\n",
      "[ 0 -2 -2]\n",
      "[ 0.94999999 -2.         -2.        ]\n"
     ]
    }
   ],
   "source": [
    "from sklearn import tree\n",
    "clf = tree.DecisionTreeClassifier(max_depth=1)\n",
    "clf.fit(X,c)\n",
    "\n",
    "print (clf.tree_.n_node_samples)\n",
    "print (clf.tree_.impurity)\n",
    "print (clf.tree_.feature)\n",
    "print (clf.tree_.threshold)"
   ]
  },
  {
   "cell_type": "markdown",
   "metadata": {},
   "source": [
    "### Impurity of 2 partitions after first split\n",
    "\n",
    "- The root partition contains 3 classes hence the sum is\n",
    "\n",
    ">$ \\displaystyle H_{\\rm{}left} = \\frac{2}{2}\\left(1\\!-\\!\\frac{2}{2}\\right) + \\frac{0}{2}\\left(1\\!-\\!\\frac{0}{2}\\right) + \\frac{0}{2}\\left(1\\!-\\!\\frac{0}{2}\\right)= 0$\n",
    "\n",
    ">$ \\displaystyle H_{\\rm{}right} = \\frac{3}{6}\\left(1\\!-\\!\\frac{3}{6}\\right) \n",
    "     + \\frac{2}{6}\\left(1\\!-\\!\\frac{2}{6}\\right) \n",
    "     + \\frac{1}{6}\\left(1\\!-\\!\\frac{1}{6}\\right) $ \n",
    " $ \\displaystyle = \\frac{9}{36}\n",
    "     + \\frac{8}{36}\n",
    "     + \\frac{5}{36}\n",
    "     = \\frac{11}{18} $ $\\approx 0.61111111$\n",
    "\n",
    "> Cf. numbers above\n",
    "\n",
    "- Note importance of weighting by partition sizes!"
   ]
  },
  {
   "cell_type": "code",
   "execution_count": 16,
   "metadata": {},
   "outputs": [
    {
     "name": "stdout",
     "output_type": "stream",
     "text": [
      "[8 2 6 4 2]\n",
      "[0.59375    0.         0.61111111 0.375      0.5       ]\n",
      "[ 0 -2  1 -2 -2]\n",
      "[ 0.94999999 -2.          0.15       -2.         -2.        ]\n"
     ]
    }
   ],
   "source": [
    "from sklearn import tree\n",
    "clf = tree.DecisionTreeClassifier(max_depth=2)\n",
    "clf.fit(X,c)\n",
    "\n",
    "print (clf.tree_.n_node_samples)\n",
    "print (clf.tree_.impurity)\n",
    "print (clf.tree_.feature)\n",
    "print (clf.tree_.threshold)"
   ]
  },
  {
   "cell_type": "markdown",
   "metadata": {},
   "source": [
    "### Example\n",
    "\n",
    "Use the sklearn routines to \n",
    "\n",
    "- Load the iris dataset and use the first 2 features\n",
    "- Run the decision tree classifier with different depths\n",
    "- Use cross-validation and plot the results\n",
    "\n",
    "<a href=\"https://scikit-learn.org/stable/auto_examples/tree/plot_iris_dtc.html#sphx-glr-auto-examples-tree-plot-iris-dtc-py\">\n",
    "    <img src=\"https://scikit-learn.org/stable/_images/sphx_glr_plot_iris_dtc_001.png\" align=left width=500 \\>\n",
    "</a>"
   ]
  },
  {
   "cell_type": "code",
   "execution_count": 17,
   "metadata": {},
   "outputs": [
    {
     "name": "stdout",
     "output_type": "stream",
     "text": [
      "New classes: [0 1]\n",
      "New data: (100, 2)\n"
     ]
    }
   ],
   "source": [
    "from sklearn import datasets\n",
    "\n",
    "iris = datasets.load_iris()\n",
    "X = iris.data[:,:2].copy()  # only first 2 features\n",
    "c = iris.target.copy()      # copy\n",
    "subset = c<2 # classes 0 and 1\n",
    "X,c = X[subset,:], c[subset]\n",
    "\n",
    "print ('New classes:', np.unique(c))\n",
    "print ('New data:', X.shape)"
   ]
  },
  {
   "cell_type": "code",
   "execution_count": 18,
   "metadata": {},
   "outputs": [
    {
     "data": {
      "image/png": "[encoded data removed]",
      "text/plain": [
       "<Figure size 216x216 with 1 Axes>"
      ]
     },
     "metadata": {
      "needs_background": "light"
     },
     "output_type": "display_data"
    }
   ],
   "source": [
    "subplot(111,aspect='equal'); \n",
    "scatter(X[:,0],X[:,1],c=c,cmap=cm.brg);"
   ]
  },
  {
   "cell_type": "code",
   "execution_count": 19,
   "metadata": {},
   "outputs": [
    {
     "data": {
      "image/png": "[encoded data removed]",
      "text/plain": [
       "<Figure size 216x216 with 1 Axes>"
      ]
     },
     "metadata": {
      "needs_background": "light"
     },
     "output_type": "display_data"
    },
    {
     "data": {
      "image/png": "[encoded data removed]",
      "text/plain": [
       "<Figure size 216x216 with 1 Axes>"
      ]
     },
     "metadata": {
      "needs_background": "light"
     },
     "output_type": "display_data"
    },
    {
     "data": {
      "image/png": "[encoded data removed]",
      "text/plain": [
       "<Figure size 216x216 with 1 Axes>"
      ]
     },
     "metadata": {
      "needs_background": "light"
     },
     "output_type": "display_data"
    },
    {
     "data": {
      "image/png": "[encoded data removed]",
      "text/plain": [
       "<Figure size 216x216 with 1 Axes>"
      ]
     },
     "metadata": {
      "needs_background": "light"
     },
     "output_type": "display_data"
    }
   ],
   "source": [
    "# grid of points within the limits\n",
    "h = 0.01\n",
    "x,y = meshgrid(arange(X[:,0].min()-.5, X[:,0].max()+.5, h),\n",
    "               arange(X[:,1].min()-.5, X[:,1].max()+.5, h))\n",
    "grid = np.c_[x.ravel(),y.ravel()]\n",
    "\n",
    "# decision-surfaces as fn of max depth\n",
    "for depth in range(1,5):\n",
    "    clf = tree.DecisionTreeClassifier(max_depth=depth)\n",
    "    z = clf.fit(X,c).predict(grid).reshape(x.shape)\n",
    "    figure(figsize=(3,3)); subplot(111,aspect='equal')\n",
    "    contourf(x, y, z, cmap=cm.Spectral_r)\n",
    "    scatter(X[:,0], X[:,1], c=c, cmap=cm.gray);"
   ]
  },
  {
   "cell_type": "markdown",
   "metadata": {},
   "source": [
    "<h1><font color=\"darkblue\">Random Forest</font></h1>\n",
    "\n",
    "### Random Tree\n",
    "\n",
    "- Hard to pick the *best* in high dimensions (i.e., very expensive)\n",
    "\n",
    "> Instead we pick a number of random directions to search<br/>\n",
    "> and take the optimal split among those\n",
    "\n",
    "- A randomized tree will not be optimal but much faster to build"
   ]
  }
 ],
 "metadata": {
  "anaconda-cloud": {},
  "kernelspec": {
   "display_name": "Python 3",
   "language": "python",
   "name": "python3"
  },
  "language_info": {
   "codemirror_mode": {
    "name": "ipython",
    "version": 3
   },
   "file_extension": ".py",
   "mimetype": "text/x-python",
   "name": "python",
   "nbconvert_exporter": "python",
   "pygments_lexer": "ipython3",
   "version": "3.7.3"
  }
 },
 "nbformat": 4,
 "nbformat_minor": 1
}
