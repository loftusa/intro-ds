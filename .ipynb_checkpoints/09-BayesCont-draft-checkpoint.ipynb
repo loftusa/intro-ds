{
 "cells": [
  {
   "cell_type": "markdown",
   "metadata": {
    "nbpresent": {
     "id": "8ceeaf75-df41-4b57-a120-a1d5e21d01a6"
    },
    "slideshow": {
     "slide_type": "-"
    }
   },
   "source": [
    "<hr/>\n",
    "\n",
    "# Introduction to Data Science\n",
    "**Tamás Budavári** - budavari@jhu.edu <br/>\n",
    "\n",
    "- Bayesian inference recap\n",
    "- Sampling from posterior\n",
    "- Marginal likelihood\n",
    "- Model comparison\n",
    "\n",
    "<hr/>"
   ]
  },
  {
   "cell_type": "markdown",
   "metadata": {
    "nbpresent": {
     "id": "9152c8d7-6f50-4380-a818-2551174f58d5"
    }
   },
   "source": [
    "<h1><font color=\"darkblue\">Bayesian Inference</font></h1>\n",
    "\n",
    "Rev. Thomas Bayes (c.1701-1761)\n",
    "\n",
    "<img src=https://upload.wikimedia.org/wikipedia/commons/d/d4/Thomas_Bayes.gif align=left height=200>\n"
   ]
  },
  {
   "cell_type": "markdown",
   "metadata": {
    "nbpresent": {
     "id": "5e9e7459-ac77-4d36-baf8-21f8b8f1ae7d"
    },
    "slideshow": {
     "slide_type": "slide"
    }
   },
   "source": [
    "### Probabilitistic Models\n",
    "- From data $D$ we infer the parameters $\\theta$ of model $M$ \n",
    "\n",
    ">$\\displaystyle p(\\theta \\lvert D,M) = \\frac{p(\\theta \\lvert M)\\ p(D \\lvert \\theta,M)}{p(D \\lvert M)}$ \n",
    "><br><br>\n",
    "> or\n",
    "><br><br>\n",
    ">$\\displaystyle p(\\theta) = \\frac{\\pi(\\theta)\\,{\\cal{}L}(\\theta)}{\\int \\pi(\\theta)\\,{\\cal{}L}(\\theta)\\ d\\theta }$\n",
    "\n",
    "- Recall posterior, prior, likelihood, normalization"
   ]
  },
  {
   "cell_type": "markdown",
   "metadata": {},
   "source": [
    "### Exercise: your 1st classification problem \n",
    "\n",
    "> Among some observed objects 1% belongs to a special type, e.g., quasars mixed with many stars. Using a classification method 99% of these special objects can be correctly selected. This method also selects 0.5% of the other types of objects erroneously.\n",
    "><br><br>\n",
    "> What is the probability of having a special type if an object is selected by the method?"
   ]
  },
  {
   "cell_type": "markdown",
   "metadata": {},
   "source": [
    "#### Surprized?\n",
    "\n",
    "> Similar analysis is needed every day...\n",
    "><br>\n",
    "> E.g., markers of diseases"
   ]
  },
  {
   "cell_type": "markdown",
   "metadata": {
    "nbpresent": {
     "id": "39fe05c3-3e41-454d-ae97-a9721dd907e7"
    },
    "slideshow": {
     "slide_type": "slide"
    }
   },
   "source": [
    "### Likelihood Function\n",
    "- A set of (conditionally) independent measurements\n",
    "\n",
    ">$\\displaystyle D = \\Big\\{x_i\\Big\\}_{i=1}^N$\n",
    "\n",
    "- The likelihood function is a product \n",
    "\n",
    ">$\\displaystyle {\\cal L}_{\\!D}(\\theta) = p(D \\lvert \\theta) = p(\\{x_i\\} \\lvert\\,\\theta) = \\prod_{i=1}^N f(x_{i};\\theta) = \\prod_{i=1}^N \\ell_{\\!i}(\\theta)$\n",
    "\n",
    "- Maximum Likelihood Estimation (MLE) \n",
    "\n",
    "> E.g., Gaussians... cf. method of least squares"
   ]
  },
  {
   "cell_type": "code",
   "execution_count": null,
   "metadata": {},
   "outputs": [],
   "source": [
    "%pylab inline\n",
    "pylab.rcParams['figure.figsize'] = (4,3)"
   ]
  },
  {
   "cell_type": "markdown",
   "metadata": {},
   "source": [
    "### Exercise: numerical intergration in 1D \n",
    "\n",
    "Implement Bayes' rule to infer a constant based on $N$ (independent) measurements\n",
    "\n",
    "1. Assume Gaussian likelihood with $\\sigma=1$ and improper prior\n",
    "\n",
    "0. Use function `np.trapz(f,x)` for numerical integration\n",
    "\n",
    "0. Start from the code below "
   ]
  },
  {
   "cell_type": "code",
   "execution_count": null,
   "metadata": {},
   "outputs": [],
   "source": [
    "data = np.random.randn(5) # fake data points from normal distribution\n",
    "mu = np.linspace(-2,2,1000) # grid over the parameter\n",
    "\n",
    "# missing code here...\n",
    "\n",
    "plot(mu,pdf); xlabel('mu'); ylabel('posterior');\n",
    "np.trapz(mu*pdf,mu) # expectation value"
   ]
  },
  {
   "cell_type": "markdown",
   "metadata": {
    "nbpresent": {
     "id": "a047b719-fd29-4775-9b5d-6962d0049397"
    }
   },
   "source": [
    "### Multiple Datasets\n",
    "\n",
    "- If the data set $D$ consists of two subsets of $D_1$ and $D_2$, we can consider them together or separately\n",
    "\n",
    ">$\\displaystyle p(\\theta \\lvert D_1,D_2) = \\frac{p(\\theta)\\, p(D_1, D_2 \\lvert \\theta)}{p(D_1, D_2)}$\n",
    "><br><br>\n",
    "> also \n",
    "><br><br>\n",
    ">$\\displaystyle p(\\theta \\lvert D_1, D_2) = \\frac{p(\\theta \\lvert D_1)\\, p(D_2 \\lvert \\theta, D_1)}{p(D_2 \\lvert D_1)}$"
   ]
  },
  {
   "cell_type": "markdown",
   "metadata": {
    "nbpresent": {
     "id": "8165e94f-80b0-4051-939d-dadd5516868a"
    },
    "slideshow": {
     "slide_type": "slide"
    }
   },
   "source": [
    "- Because\n",
    "\n",
    ">$\\displaystyle p(\\theta \\lvert D) = p(\\theta \\lvert \\color{green}{D_1}, \\color{red}{D_2}) = \\frac{p(\\theta \\lvert \\color{green}{D_1})\\, p(\\color{red}{D_2} \\lvert \\theta, \\color{green}{D_1})}{p(\\color{red}{D_2} \\lvert \\color{green}{D_1})}$\n",
    ">$\\displaystyle = \\frac{p(\\theta)\\,p(\\color{green}{D_1} \\lvert \\theta)\\, p(\\color{red}{D_2} \\lvert \\theta, \\color{green}{D_1})}{p(\\color{green}{D_1})\\,p(\\color{red}{D_2} \\lvert \\color{green}{D_1})}$\n",
    ">$\\displaystyle = \\frac{p(\\theta)\\,p(\\color{green}{D_1},\\color{red}{D_2} \\lvert \\theta)}{p(\\color{green}{D_1}, \\color{red}{D_2})}$\n",
    ">$\\displaystyle = \\frac{p(\\theta)\\,p(D \\lvert \\theta)}{p(D)}$\n",
    "\n",
    "- Incremental learning\n",
    "\n",
    "\n",
    ">$\\displaystyle D = \\big\\{ \\color{green}{D_1},\\ \\color{red}{D_2},\\ \\color{darkblue}{D_3}, \\dots, \\color{black}{D_N} \\big\\}$"
   ]
  },
  {
   "cell_type": "markdown",
   "metadata": {
    "nbpresent": {
     "id": "045b0f66-494a-4e29-8feb-0b708d300554"
    },
    "slideshow": {
     "slide_type": "slide"
    }
   },
   "source": [
    "### Characterization of Posterior PDF\n",
    "\n",
    "- Mode, Mean, Covariance, etc... For example,\n",
    "\n",
    ">$ \\displaystyle \\bar{\\theta} = \\int {\\color{default}\\theta}\\ p(\\theta)\\ d\\theta$\n",
    ">$ \\displaystyle =  \\frac{\\int \\theta\\,\\pi(\\theta)\\,{\\cal{}L}(\\theta)\\,d\\theta}{\\int \\pi(\\theta)\\,{\\cal{}L}(\\theta)\\,d\\theta }$\n",
    "\n",
    "\n",
    "- In general, numerical evaluation is required \n",
    "\n",
    "> Randomized algorithms;\n",
    "> Sampling from distributions\n",
    "\n",
    "\n"
   ]
  },
  {
   "cell_type": "markdown",
   "metadata": {
    "collapsed": true,
    "nbpresent": {
     "id": "cf7111f6-7e9c-4b60-b292-033e7fc9cad8"
    },
    "slideshow": {
     "slide_type": "slide"
    }
   },
   "source": [
    "### Caution!\n",
    "\n",
    "- Noisy likelihood function with false peak(s)\n",
    " \n",
    "> Misleading MLE by an erroneous spike?\n",
    " \n",
    "- Mean could be completely off\n",
    "\n",
    "> E.g., center of a ring "
   ]
  },
  {
   "cell_type": "markdown",
   "metadata": {
    "nbpresent": {
     "id": "6de978dd-f029-495e-b509-9f27bba974f3"
    },
    "slideshow": {
     "slide_type": "slide"
    }
   },
   "source": [
    "### Sampling \n",
    "\n",
    "- How to calculate an integral such as\n",
    "\n",
    ">$ \\displaystyle \\langle f(\\theta)\\rangle  =  \\int f(\\theta)\\,p(\\theta)\\,d\\theta $\n",
    "\n",
    "- Approximation using $\\{\\theta_i\\}$ sample from $p(\\cdot)$\n",
    "\n",
    ">$ \\displaystyle \\langle f(\\theta)\\rangle \\approx \\frac{1}{n}\\sum_{i=1}^{n} f(\\theta_i) $\n",
    "\n",
    "- But we really don't know the posterior that well!"
   ]
  },
  {
   "cell_type": "markdown",
   "metadata": {
    "nbpresent": {
     "id": "fbd8e4a6-380a-4ace-99c0-6e118d6b105b"
    },
    "slideshow": {
     "slide_type": "slide"
    }
   },
   "source": [
    "### Sampling from Prior\n",
    "\n",
    "- Prior is better known \n",
    "\n",
    "> $ \\displaystyle \\langle f(\\theta)\\rangle =$\n",
    ">$ \\displaystyle \\frac{\\int f(\\theta)\\,\\pi(\\theta)\\,{\\cal{}L}(\\theta)\\,d\\theta}{\\int \\pi(\\theta)\\,{\\cal{}L}(\\theta)\\,d\\theta }$\n",
    "\n",
    "\n",
    "- Approximation using $\\{\\theta_i\\}$ sample from $\\pi(\\cdot)$\n",
    "\n",
    ">$ \\displaystyle \\langle f(\\theta)\\rangle \\approx \\frac{\\sum f(\\theta_i)\\,{\\cal{}L}(\\theta_i)}{\\sum {\\cal{}L}(\\theta_i)} $"
   ]
  },
  {
   "cell_type": "markdown",
   "metadata": {
    "nbpresent": {
     "id": "3f46d1e0-f486-4ebf-8191-94b038b313c3"
    },
    "slideshow": {
     "slide_type": "slide"
    }
   },
   "source": [
    "### Sampling from ...\n",
    "\n",
    "- E.g., likelihood?\n",
    "\n",
    ">$ \\displaystyle \\langle f(\\theta)\\rangle \\approx \\frac{\\sum f(\\theta_i)\\,\\pi(\\theta_i)}{\\sum \\pi(\\theta_i)} $\n",
    "\n",
    "- What about something \"similar\"?"
   ]
  },
  {
   "cell_type": "markdown",
   "metadata": {
    "nbpresent": {
     "id": "97d499cb-3514-4b3f-8247-c0c43f45547a"
    },
    "slideshow": {
     "slide_type": "slide"
    }
   },
   "source": [
    "### Importance Sampling\n",
    "\n",
    "- We usually have integrals such as\n",
    "\n",
    ">$ \\displaystyle \\langle f(\\theta)\\rangle = \\int f(\\theta)\\,g(\\theta)\\,d\\theta$\n",
    "\n",
    "- If we can't sample from $g(\\cdot)$ but can from a $h(\\cdot)$ \n",
    "\n",
    "> s.t. $\\ \\ \\ g(\\theta) \\leq K \\cdot h(\\theta) \\ \\ \\ $ for any $\\theta$ and a suitably large $K$\n",
    "><br><br>\n",
    ">$\\displaystyle \\langle f(\\theta)\\rangle \\approx \\frac{1}{n} \\sum_i^n f(\\theta_i)\\,\\frac{g(\\theta_i)}{h(\\theta_i)}$"
   ]
  },
  {
   "cell_type": "markdown",
   "metadata": {
    "nbpresent": {
     "id": "bb8fe6fc-3445-47f6-b87f-b61a115875aa"
    },
    "slideshow": {
     "slide_type": "slide"
    }
   },
   "source": [
    "### Markov-chain Monte Carlo a.k.a. MCMC\n",
    "\n",
    "- Instead of independent samples, produce a chain of samples in a special way\n",
    "\n",
    "> **Metropolis-Hastings**\n",
    "> 0. Start from a random $\\theta_t = \\theta_0$ parameter set\n",
    "> 0. Obtain a new $\\theta'$ from a proposal distribution $Q(\\theta;\\theta_t)$\n",
    "> 0. Accept $\\theta_{t+1} = \\theta'$ with probability $g(\\theta')/g(\\theta_t)$\n",
    "> 0. Let $t\\leftarrow t\\!+\\!1$ and go to Step 2.\n",
    "\n",
    "- Use the samples of the chain as if taken from the posterior PDF\n",
    "\n",
    "  - Many other variants \n",
    "\n",
    "  - Watch out for burn in, correlations, etc..."
   ]
  },
  {
   "cell_type": "markdown",
   "metadata": {
    "nbpresent": {
     "id": "84b0eb40-0fae-4d5e-9c0c-17a275f3096b"
    },
    "slideshow": {
     "slide_type": "slide"
    }
   },
   "source": [
    "### For example\n",
    "\n",
    "<img src=https://upload.wikimedia.org/wikipedia/commons/a/a6/3dRosenbrock.png width=400 align=left>"
   ]
  },
  {
   "cell_type": "markdown",
   "metadata": {
    "nbpresent": {
     "id": "8d64ae63-f88c-4484-8232-da45bc90f5ce"
    },
    "slideshow": {
     "slide_type": "slide"
    }
   },
   "source": [
    "### Model Comparison\n",
    "\n",
    "- Bayesian hypothesis testing\n",
    "\n",
    "> Posterior probability of a model given the data vs another (odds)\n",
    "><br><br>\n",
    ">$\\displaystyle \\frac{P(M_1 \\lvert D)}{P(M_2 \\lvert D)} = \\frac{P(M_1)\\ p(D \\lvert M_1)\\,\\big/\\,p(D)}{P(M_2)\\ p(D \\lvert M_2)\\,\\big/\\,p(D)}$\n",
    ">$\\displaystyle = \\frac{P(M_1)}{P(M_2)} \\frac{p(D \\lvert M_1)}{p(D \\lvert M_2)}$\n",
    "><br><br>\n",
    ">$\\displaystyle \\ \\ \\ \\ = \\frac{P(M_1)}{P(M_2)}\\  B(M_1,M_2 \\lvert D)$\n",
    "><br><br>\n",
    "> Posterior odds $=$ Prior odds $\\times$ the Bayes factor\n"
   ]
  },
  {
   "cell_type": "markdown",
   "metadata": {
    "nbpresent": {
     "id": "1b1e3024-b83e-4ebf-bb2e-ca67b423f544"
    },
    "slideshow": {
     "slide_type": "slide"
    }
   },
   "source": [
    "### Marginal Likelihood\n",
    "\n",
    "- Integral over all parameters\n",
    "\n",
    ">$\\displaystyle p(D \\lvert M) = \\int  p(\\theta \\lvert M)\\ p(D \\lvert \\theta,M) d\\theta$ \n",
    "><br><br>\n",
    "> Cf. Bayes' rule\n",
    "><br><br>\n",
    ">$\\displaystyle p(\\theta \\lvert D,M) = \\frac{p(\\theta \\lvert M)\\ p(D \\lvert \\theta,M)}{p(D \\lvert M)}$ \n",
    "\n",
    "- No improper prior here!"
   ]
  },
  {
   "cell_type": "markdown",
   "metadata": {
    "nbpresent": {
     "id": "667f4e42-0b31-41c3-981a-bd3db01a59b6"
    },
    "slideshow": {
     "slide_type": "slide"
    }
   },
   "source": [
    "### Complementer Hypotheses\n",
    "\n",
    "- I.e., $P(M_1) + P(M_2) = 1$ also $P(M_1 \\lvert D) + P(M_2 \\lvert D) = 1$ \n",
    "\n",
    "> Let $P$ represent $P(M_1 \\lvert D)$ and $P_0$ be $P(M_1)$\n",
    "><br><br>\n",
    ">$\\displaystyle \\frac{P}{1-P} = \\frac{P_0}{1-P_0} B$\n",
    "><br><br>\n",
    "> Hence\n",
    "><br><br>\n",
    ">$\\displaystyle P = \\left[ 1 + \\frac{1-P_0}{P_0 B} \\right]^{-1}   $\n"
   ]
  },
  {
   "cell_type": "code",
   "execution_count": null,
   "metadata": {
    "nbpresent": {
     "id": "1156d7ba-9f8f-4418-a581-0c3fac0bf052"
    }
   },
   "outputs": [],
   "source": [
    "# Posterior as fn of ln(B)\n",
    "logB = np.linspace(-6,6,100) \n",
    "B = np.exp(logB)\n",
    "for P0 in [0.5]:\n",
    "    P = 1 / (1 + (1-P0)/(P0*B)) \n",
    "    plt.plot(logB, P,'-', label=str(P0));\n",
    "# sigmoid function cf. neural networks\n",
    "xlabel('Log of Bayes factor'); ylabel('Posterior'); \n",
    "legend(loc=4); ylim(None,1.05);"
   ]
  }
 ],
 "metadata": {
  "anaconda-cloud": {},
  "kernelspec": {
   "display_name": "Python 3",
   "language": "python",
   "name": "python3"
  },
  "language_info": {
   "codemirror_mode": {
    "name": "ipython",
    "version": 3
   },
   "file_extension": ".py",
   "mimetype": "text/x-python",
   "name": "python",
   "nbconvert_exporter": "python",
   "pygments_lexer": "ipython3",
   "version": "3.7.3"
  },
  "nbpresent": {
   "slides": {
    "2c966673-311b-44d2-ab4b-3cc6dc47b4a2": {
     "id": "2c966673-311b-44d2-ab4b-3cc6dc47b4a2",
     "prev": "7a9e640d-09eb-4f3f-8012-b2c450125fb3",
     "regions": {
      "e8e8e0c6-6651-42d2-b4bb-77a5403cd0f5": {
       "attrs": {
        "height": 0.8,
        "width": 0.8,
        "x": 0.1,
        "y": 0.1
       },
       "content": {
        "cell": "fcfc7ab1-c000-4b7b-a597-6d2570fac2ce",
        "part": "whole"
       },
       "id": "e8e8e0c6-6651-42d2-b4bb-77a5403cd0f5"
      }
     }
    },
    "3a0db94c-7e33-4521-83f6-41b8c2ec326a": {
     "id": "3a0db94c-7e33-4521-83f6-41b8c2ec326a",
     "prev": "2c966673-311b-44d2-ab4b-3cc6dc47b4a2",
     "regions": {
      "33c4931d-a771-46ca-9eb7-dd5ccf38b759": {
       "attrs": {
        "height": 0.8,
        "width": 0.8,
        "x": 0.1,
        "y": 0.1
       },
       "content": {
        "cell": "a047b719-fd29-4775-9b5d-6962d0049397",
        "part": "whole"
       },
       "id": "33c4931d-a771-46ca-9eb7-dd5ccf38b759"
      }
     }
    },
    "4bec7a54-6752-4584-96ad-3b85a9e9c5e1": {
     "id": "4bec7a54-6752-4584-96ad-3b85a9e9c5e1",
     "prev": "ab7e2dc3-7f06-47a5-8b0e-57a88cd1765e",
     "regions": {
      "981fc64b-0f37-4106-ab6f-51cdfc34e020": {
       "attrs": {
        "height": 0.8,
        "width": 0.8,
        "x": 0.1,
        "y": 0.1
       },
       "content": {
        "cell": "8d64ae63-f88c-4484-8232-da45bc90f5ce",
        "part": "whole"
       },
       "id": "981fc64b-0f37-4106-ab6f-51cdfc34e020"
      }
     }
    },
    "646cc2e2-94a4-4e46-880c-0aa9de68dd30": {
     "id": "646cc2e2-94a4-4e46-880c-0aa9de68dd30",
     "prev": "78170899-7339-4d97-85af-4593ae605041",
     "regions": {
      "f7f0d743-62f6-46fb-adb6-1439d683836f": {
       "attrs": {
        "height": 0.8,
        "width": 0.8,
        "x": 0.1,
        "y": 0.1
       },
       "content": {
        "cell": "3f46d1e0-f486-4ebf-8191-94b038b313c3",
        "part": "whole"
       },
       "id": "f7f0d743-62f6-46fb-adb6-1439d683836f"
      }
     }
    },
    "675d79c5-12fb-42a3-a3ca-b8b7a2eb1bc3": {
     "id": "675d79c5-12fb-42a3-a3ca-b8b7a2eb1bc3",
     "prev": "dbf2e338-1bad-4189-9373-da77279e9fbc",
     "regions": {
      "6f420310-252e-41cf-aee9-fccbfa5a002c": {
       "attrs": {
        "height": 0.8,
        "width": 0.8,
        "x": 0.1,
        "y": 0.1
       },
       "content": {
        "cell": "1156d7ba-9f8f-4418-a581-0c3fac0bf052",
        "part": "whole"
       },
       "id": "6f420310-252e-41cf-aee9-fccbfa5a002c"
      }
     }
    },
    "6c3a1663-4e98-4aad-9ac2-22d58bc1256f": {
     "id": "6c3a1663-4e98-4aad-9ac2-22d58bc1256f",
     "prev": "b35d1290-1e44-4c28-8fba-f26aac071bc5",
     "regions": {
      "7e3a3dc8-5ccb-472e-93c2-3af6c695e0bb": {
       "attrs": {
        "height": 0.8,
        "width": 0.8,
        "x": 0.1,
        "y": 0.1
       },
       "content": {
        "cell": "bb8fe6fc-3445-47f6-b87f-b61a115875aa",
        "part": "whole"
       },
       "id": "7e3a3dc8-5ccb-472e-93c2-3af6c695e0bb"
      }
     }
    },
    "6f9a204c-4692-4eaa-abdd-29bf778bc99c": {
     "id": "6f9a204c-4692-4eaa-abdd-29bf778bc99c",
     "prev": "bd34c798-6eb1-4bcc-adb2-25599b1f1fd6",
     "regions": {
      "5554cd18-2262-421d-8061-05fbfa1694e6": {
       "attrs": {
        "height": 0.8,
        "width": 0.8,
        "x": 0.1,
        "y": 0.1
       },
       "content": {
        "cell": "9152c8d7-6f50-4380-a818-2551174f58d5",
        "part": "whole"
       },
       "id": "5554cd18-2262-421d-8061-05fbfa1694e6"
      }
     }
    },
    "78170899-7339-4d97-85af-4593ae605041": {
     "id": "78170899-7339-4d97-85af-4593ae605041",
     "prev": "a965caa7-9518-4d07-b893-3d0eb3092a08",
     "regions": {
      "b8c25739-2b65-4a8a-bab9-27f9c9cab23d": {
       "attrs": {
        "height": 0.8,
        "width": 0.8,
        "x": 0.1,
        "y": 0.1
       },
       "content": {
        "cell": "fbd8e4a6-380a-4ace-99c0-6e118d6b105b",
        "part": "whole"
       },
       "id": "b8c25739-2b65-4a8a-bab9-27f9c9cab23d"
      }
     }
    },
    "7a9e640d-09eb-4f3f-8012-b2c450125fb3": {
     "id": "7a9e640d-09eb-4f3f-8012-b2c450125fb3",
     "prev": "7e92fa27-301a-46c8-a138-1a79f1be4292",
     "regions": {
      "71ba0fca-e7ff-4d4a-9b21-b43193326797": {
       "attrs": {
        "height": 0.8,
        "width": 0.8,
        "x": 0.1,
        "y": 0.1
       },
       "content": {
        "cell": "39fe05c3-3e41-454d-ae97-a9721dd907e7",
        "part": "whole"
       },
       "id": "71ba0fca-e7ff-4d4a-9b21-b43193326797"
      }
     }
    },
    "7e92fa27-301a-46c8-a138-1a79f1be4292": {
     "id": "7e92fa27-301a-46c8-a138-1a79f1be4292",
     "prev": "6f9a204c-4692-4eaa-abdd-29bf778bc99c",
     "regions": {
      "01077233-48b1-43cc-a4b5-44f226663b57": {
       "attrs": {
        "height": 0.8,
        "width": 0.8,
        "x": 0.1,
        "y": 0.1
       },
       "content": {
        "cell": "5e9e7459-ac77-4d36-baf8-21f8b8f1ae7d",
        "part": "whole"
       },
       "id": "01077233-48b1-43cc-a4b5-44f226663b57"
      }
     }
    },
    "a965caa7-9518-4d07-b893-3d0eb3092a08": {
     "id": "a965caa7-9518-4d07-b893-3d0eb3092a08",
     "prev": "e8aabb85-4499-4825-ad70-3579e194e89b",
     "regions": {
      "5311be4a-7888-4aaa-ae16-5828a0780c85": {
       "attrs": {
        "height": 0.8,
        "width": 0.8,
        "x": 0.1,
        "y": 0.1
       },
       "content": {
        "cell": "6de978dd-f029-495e-b509-9f27bba974f3",
        "part": "whole"
       },
       "id": "5311be4a-7888-4aaa-ae16-5828a0780c85"
      }
     }
    },
    "ab7e2dc3-7f06-47a5-8b0e-57a88cd1765e": {
     "id": "ab7e2dc3-7f06-47a5-8b0e-57a88cd1765e",
     "prev": "6c3a1663-4e98-4aad-9ac2-22d58bc1256f",
     "regions": {
      "e0f4b380-4088-4e9a-85cf-9683d9ca8c6e": {
       "attrs": {
        "height": 0.8,
        "width": 0.8,
        "x": 0.1,
        "y": 0.1
       },
       "content": {
        "cell": "84b0eb40-0fae-4d5e-9c0c-17a275f3096b",
        "part": "whole"
       },
       "id": "e0f4b380-4088-4e9a-85cf-9683d9ca8c6e"
      }
     }
    },
    "b35d1290-1e44-4c28-8fba-f26aac071bc5": {
     "id": "b35d1290-1e44-4c28-8fba-f26aac071bc5",
     "prev": "646cc2e2-94a4-4e46-880c-0aa9de68dd30",
     "regions": {
      "1db6a25f-a1b3-4245-ad6f-c69f2f1fe9bc": {
       "attrs": {
        "height": 0.8,
        "width": 0.8,
        "x": 0.1,
        "y": 0.1
       },
       "content": {
        "cell": "97d499cb-3514-4b3f-8247-c0c43f45547a",
        "part": "whole"
       },
       "id": "1db6a25f-a1b3-4245-ad6f-c69f2f1fe9bc"
      }
     }
    },
    "bd34c798-6eb1-4bcc-adb2-25599b1f1fd6": {
     "id": "bd34c798-6eb1-4bcc-adb2-25599b1f1fd6",
     "prev": null,
     "regions": {
      "0125e489-223f-45fd-aba3-0361216796d2": {
       "attrs": {
        "height": 0.8,
        "width": 0.8,
        "x": 0.1,
        "y": 0.1
       },
       "content": {
        "cell": "8ceeaf75-df41-4b57-a120-a1d5e21d01a6",
        "part": "whole"
       },
       "id": "0125e489-223f-45fd-aba3-0361216796d2"
      }
     }
    },
    "cbf3b04b-7cc7-4fe2-b6a9-6669fc149b28": {
     "id": "cbf3b04b-7cc7-4fe2-b6a9-6669fc149b28",
     "prev": "d81ad685-d942-4c70-aa6b-392e20489f38",
     "regions": {
      "6d73c207-9e77-4e15-bb49-75d8d8871361": {
       "attrs": {
        "height": 0.8,
        "width": 0.8,
        "x": 0.1,
        "y": 0.1
       },
       "content": {
        "cell": "045b0f66-494a-4e29-8feb-0b708d300554",
        "part": "whole"
       },
       "id": "6d73c207-9e77-4e15-bb49-75d8d8871361"
      }
     }
    },
    "d710edac-a410-4b6e-9e56-d2e2e7bbbeb9": {
     "id": "d710edac-a410-4b6e-9e56-d2e2e7bbbeb9",
     "prev": "e6968851-ff70-4e7b-a854-b7949df4c531",
     "regions": {
      "42b122e8-77ae-4ad6-a1bb-d32a4775c236": {
       "attrs": {
        "height": 0.8,
        "width": 0.8,
        "x": 0.1,
        "y": 0.1
       },
       "content": {
        "cell": "667f4e42-0b31-41c3-981a-bd3db01a59b6",
        "part": "whole"
       },
       "id": "42b122e8-77ae-4ad6-a1bb-d32a4775c236"
      }
     }
    },
    "d81ad685-d942-4c70-aa6b-392e20489f38": {
     "id": "d81ad685-d942-4c70-aa6b-392e20489f38",
     "prev": "3a0db94c-7e33-4521-83f6-41b8c2ec326a",
     "regions": {
      "e92337fd-889b-4205-9890-3ed5a3dcb071": {
       "attrs": {
        "height": 0.8,
        "width": 0.8,
        "x": 0.1,
        "y": 0.1
       },
       "content": {
        "cell": "8165e94f-80b0-4051-939d-dadd5516868a",
        "part": "whole"
       },
       "id": "e92337fd-889b-4205-9890-3ed5a3dcb071"
      }
     }
    },
    "dbf2e338-1bad-4189-9373-da77279e9fbc": {
     "id": "dbf2e338-1bad-4189-9373-da77279e9fbc",
     "prev": "d710edac-a410-4b6e-9e56-d2e2e7bbbeb9",
     "regions": {
      "40d04f74-4d04-4118-8700-d89e56153253": {
       "attrs": {
        "height": 0.8,
        "width": 0.8,
        "x": 0.1,
        "y": 0.1
       },
       "content": {
        "cell": "ed6c5f82-b854-43d5-9dfe-c10dcd6352a7",
        "part": "whole"
       },
       "id": "40d04f74-4d04-4118-8700-d89e56153253"
      }
     }
    },
    "e6968851-ff70-4e7b-a854-b7949df4c531": {
     "id": "e6968851-ff70-4e7b-a854-b7949df4c531",
     "prev": "4bec7a54-6752-4584-96ad-3b85a9e9c5e1",
     "regions": {
      "a00193a8-127e-4c7e-88fe-885043958296": {
       "attrs": {
        "height": 0.8,
        "width": 0.8,
        "x": 0.1,
        "y": 0.1
       },
       "content": {
        "cell": "1b1e3024-b83e-4ebf-bb2e-ca67b423f544",
        "part": "whole"
       },
       "id": "a00193a8-127e-4c7e-88fe-885043958296"
      }
     }
    },
    "e8aabb85-4499-4825-ad70-3579e194e89b": {
     "id": "e8aabb85-4499-4825-ad70-3579e194e89b",
     "prev": "cbf3b04b-7cc7-4fe2-b6a9-6669fc149b28",
     "regions": {
      "a1a12b2c-a607-4c7a-a2f6-72d1139a4022": {
       "attrs": {
        "height": 0.8,
        "width": 0.8,
        "x": 0.1,
        "y": 0.1
       },
       "content": {
        "cell": "cf7111f6-7e9c-4b60-b292-033e7fc9cad8",
        "part": "whole"
       },
       "id": "a1a12b2c-a607-4c7a-a2f6-72d1139a4022"
      }
     }
    }
   },
   "themes": {}
  }
 },
 "nbformat": 4,
 "nbformat_minor": 1
}
