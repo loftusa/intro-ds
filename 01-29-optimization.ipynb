{
 "cells": [
  {
   "cell_type": "markdown",
   "metadata": {},
   "source": [
    "# optimization lecture"
   ]
  },
  {
   "cell_type": "markdown",
   "metadata": {},
   "source": [
    "- try to find minimum values on a function, assuming differentiability\n",
    "- when derivatives exist, can use gradient / Hessian\n",
    "- gradient: vector of partial derivatives\n",
    "- Hessian: a matrix such that each column contains furtherly nested partial derivatives\n",
    "- Jacobian: stacks gradients of coordinate functions on top of each other"
   ]
  },
  {
   "cell_type": "markdown",
   "metadata": {},
   "source": [
    "*fact*: the Hessian is the Jacobian of the gradient map"
   ]
  },
  {
   "cell_type": "markdown",
   "metadata": {},
   "source": [
    "- feasible region: define some set such that outside of the set we don't care about it"
   ]
  },
  {
   "cell_type": "markdown",
   "metadata": {},
   "source": [
    "- local minimizer: define some radius *r* around a point and a minimizer m. Every point around m will have a smaller value than every point in r around it."
   ]
  },
  {
   "cell_type": "markdown",
   "metadata": {},
   "source": [
    "## Unconstrained optimization"
   ]
  },
  {
   "cell_type": "markdown",
   "metadata": {},
   "source": [
    "first order necessary condition\n",
    "- Theroem: Suppose *f*: R^n -> R is continuously differentiable. If x* is a local minimizer of f, then the gradient at x* is 0."
   ]
  },
  {
   "cell_type": "markdown",
   "metadata": {},
   "source": [
    "- Theorem: Suppose *f*: R^n -> R is twice continuously differentiable. If x* is a local minimizer of f, then the gradient at x* is 0, and the 2nd gradient is positive semi-definite"
   ]
  },
  {
   "cell_type": "markdown",
   "metadata": {},
   "source": [
    "### algorithms"
   ]
  },
  {
   "cell_type": "markdown",
   "metadata": {},
   "source": [
    "- mostly iterative: start at some point, then move to x* in the limit of iterations"
   ]
  },
  {
   "cell_type": "markdown",
   "metadata": {},
   "source": [
    "#### line search methods\n",
    "- initialize at x_0\n",
    "- for i = 0, 1, 2, ... until stop, \n",
    "    - choose descent direction p_i\n",
    "    - do line search on one dimensional function along line of p_i\n",
    "    - find a point that decreases the function and choose step size\n",
    "    - set x_i+1 = x_i + n_ip_i\n",
    "- steepest descent\n",
    "    - take negative of gradient\n",
    "- goldstein-armijo condition\n",
    "    - set some global constant on the gradient"
   ]
  },
  {
   "cell_type": "markdown",
   "metadata": {},
   "source": [
    "#### trust region methods\n",
    "\n",
    "- form neighborhood around a point (\"trust region\")\n",
    "- optimize function in that neighborhood\n",
    "- generate new iterate"
   ]
  },
  {
   "cell_type": "markdown",
   "metadata": {},
   "source": [
    "### other stuff happened that i didn't write down"
   ]
  },
  {
   "cell_type": "markdown",
   "metadata": {},
   "source": [
    "### convexity "
   ]
  },
  {
   "cell_type": "markdown",
   "metadata": {},
   "source": [
    "- to determine if a function *f* is convex:\n",
    "- take two points, x and y\n",
    "- look at the line segment between them\n",
    "- if the entirety of the function is below x and y, then the function is convex\n",
    "- function has \"bowl\" shape\n",
    "- intuitively: if you're ever at a local minimum, you know you're at a global minimum, and first order derivative is necessary & sufficient\n",
    "    - this is the biggest advantage of working with convex functions"
   ]
  },
  {
   "cell_type": "code",
   "execution_count": null,
   "metadata": {},
   "outputs": [],
   "source": []
  }
 ],
 "metadata": {
  "kernelspec": {
   "display_name": "Python 3.8.0 64-bit ('python38': virtualenv)",
   "language": "python",
   "name": "python38064bitpython38virtualenv164b2176ee4f48b3a46ebbcf4e7a4bb9"
  },
  "language_info": {
   "codemirror_mode": {
    "name": "ipython",
    "version": 3
   },
   "file_extension": ".py",
   "mimetype": "text/x-python",
   "name": "python",
   "nbconvert_exporter": "python",
   "pygments_lexer": "ipython3",
   "version": "3.8.0"
  }
 },
 "nbformat": 4,
 "nbformat_minor": 4
}
