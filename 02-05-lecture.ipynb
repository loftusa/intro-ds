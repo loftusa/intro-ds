{
 "cells": [
  {
   "cell_type": "markdown",
   "metadata": {},
   "source": [
    "# Lecture 4"
   ]
  },
  {
   "cell_type": "markdown",
   "metadata": {},
   "source": [
    "rejection sampling\n",
    "- PDF exists that I can't sample from\n",
    "- take a uniform distribution over the pdf\n",
    "- make a bounding box over uniform distribution and sample from that distribution\n",
    "- change probabilities of accepting each sample from this uniform distribution according to the PDF\n",
    "- now pdf is reconstructed\n",
    "- **sampling a bunch of unecessary values**\n",
    "    - so, better to model your pdf with some other distribution you can sample from (but one thats closer to it), so that you have fewer unecessary values"
   ]
  },
  {
   "cell_type": "code",
   "execution_count": 1,
   "metadata": {},
   "outputs": [
    {
     "name": "stdout",
     "output_type": "stream",
     "text": [
      "Populating the interactive namespace from numpy and matplotlib\n"
     ]
    }
   ],
   "source": [
    "%pylab inline\n",
    "from scipy.stats import norm as gaussian"
   ]
  },
  {
   "cell_type": "code",
   "execution_count": 26,
   "metadata": {},
   "outputs": [
    {
     "data": {
      "text/plain": [
       "(1.1090855700779014, 1.0521709564417376, 1.223917406191971)"
      ]
     },
     "execution_count": 26,
     "metadata": {},
     "output_type": "execute_result"
    }
   ],
   "source": [
    "mu, sigma, N = 0, 1, 10\n",
    "x = gaussian.rvs(mu, sigma, N)\n",
    "\n",
    "avg = np.mean(x)\n",
    "\n",
    "# variance estimates\n",
    "s2 = np.sum((x-avg)**2) / (N-1)\n",
    "s2n  = np.sum( (x-avg)**2 ) / N     # biased \n",
    "s2k  = np.sum( (x- mu)**2 ) / N     # known mean\n",
    "\n",
    "sqrt(s2), sqrt(s2n), sqrt(s2k)"
   ]
  },
  {
   "cell_type": "code",
   "execution_count": 79,
   "metadata": {},
   "outputs": [
    {
     "name": "stdout",
     "output_type": "stream",
     "text": [
      "(5, 10000) (10000,)\n",
      "0.944494312900873 0.8447813952033235 0.9596212748174561\n"
     ]
    },
    {
     "data": {
      "image/png": "[encoded data removed]",
      "text/plain": [
       "<Figure size 432x288 with 1 Axes>"
      ]
     },
     "metadata": {
      "needs_background": "light"
     },
     "output_type": "display_data"
    }
   ],
   "source": [
    "mu, sigma, N, M = 0, 1, 5, 10000\n",
    "X = gaussian.rvs(loc=mu, scale=sigma, size=(N,M))\n",
    "avg = np.mean(X, axis=0)\n",
    "print(X.shape, avg.shape)\n",
    "\n",
    "# variance estimates\n",
    "s2   = np.sum( (X-avg)**2, axis=0) /(N-1) # correct\n",
    "s2n  = np.sum( (X-avg)**2, axis=0) / N    # biased\n",
    "s2k  = np.sum( (X- mu)**2, axis=0) / N    # known mean\n",
    "\n",
    "s, sn, sk = np.sqrt(s2), np.sqrt(s2n), np.sqrt(s2k)\n",
    "print(mean(s), mean(sn), mean(sk))\n",
    "\n",
    "hist(s, 41, range=[0,2], color='r', alpha=0.5)\n",
    "hist(sn, 41, range=[0,2], color='b', alpha=0.5);\n",
    "hist(sk, 41, range=[0,2], color='k', alpha=0.5);\n"
   ]
  },
  {
   "cell_type": "code",
   "execution_count": 71,
   "metadata": {},
   "outputs": [
    {
     "data": {
      "text/html": [
       "<div>\n",
       "<style scoped>\n",
       "    .dataframe tbody tr th:only-of-type {\n",
       "        vertical-align: middle;\n",
       "    }\n",
       "\n",
       "    .dataframe tbody tr th {\n",
       "        vertical-align: top;\n",
       "    }\n",
       "\n",
       "    .dataframe thead th {\n",
       "        text-align: right;\n",
       "    }\n",
       "</style>\n",
       "<table border=\"1\" class=\"dataframe\">\n",
       "  <thead>\n",
       "    <tr style=\"text-align: right;\">\n",
       "      <th></th>\n",
       "      <th>0</th>\n",
       "      <th>1</th>\n",
       "      <th>2</th>\n",
       "      <th>3</th>\n",
       "      <th>4</th>\n",
       "      <th>5</th>\n",
       "      <th>6</th>\n",
       "      <th>7</th>\n",
       "      <th>8</th>\n",
       "      <th>9</th>\n",
       "      <th>...</th>\n",
       "      <th>9990</th>\n",
       "      <th>9991</th>\n",
       "      <th>9992</th>\n",
       "      <th>9993</th>\n",
       "      <th>9994</th>\n",
       "      <th>9995</th>\n",
       "      <th>9996</th>\n",
       "      <th>9997</th>\n",
       "      <th>9998</th>\n",
       "      <th>9999</th>\n",
       "    </tr>\n",
       "  </thead>\n",
       "  <tbody>\n",
       "    <tr>\n",
       "      <th>0</th>\n",
       "      <td>1.390783</td>\n",
       "      <td>-0.210560</td>\n",
       "      <td>-1.807673</td>\n",
       "      <td>0.401675</td>\n",
       "      <td>-0.077134</td>\n",
       "      <td>-0.345899</td>\n",
       "      <td>0.146798</td>\n",
       "      <td>0.476016</td>\n",
       "      <td>-2.093404</td>\n",
       "      <td>-0.200939</td>\n",
       "      <td>...</td>\n",
       "      <td>-0.192376</td>\n",
       "      <td>1.757556</td>\n",
       "      <td>-0.204660</td>\n",
       "      <td>0.792893</td>\n",
       "      <td>0.248281</td>\n",
       "      <td>-1.006756</td>\n",
       "      <td>1.416199</td>\n",
       "      <td>0.000488</td>\n",
       "      <td>0.324248</td>\n",
       "      <td>1.762067</td>\n",
       "    </tr>\n",
       "    <tr>\n",
       "      <th>1</th>\n",
       "      <td>0.294475</td>\n",
       "      <td>-0.696747</td>\n",
       "      <td>0.737281</td>\n",
       "      <td>0.662788</td>\n",
       "      <td>-0.913559</td>\n",
       "      <td>1.636786</td>\n",
       "      <td>-0.387053</td>\n",
       "      <td>0.782641</td>\n",
       "      <td>-1.135480</td>\n",
       "      <td>-0.125827</td>\n",
       "      <td>...</td>\n",
       "      <td>1.347621</td>\n",
       "      <td>-0.367522</td>\n",
       "      <td>-0.608524</td>\n",
       "      <td>-1.658484</td>\n",
       "      <td>-0.790154</td>\n",
       "      <td>0.812665</td>\n",
       "      <td>0.613166</td>\n",
       "      <td>0.987125</td>\n",
       "      <td>0.876881</td>\n",
       "      <td>-0.547057</td>\n",
       "    </tr>\n",
       "    <tr>\n",
       "      <th>2</th>\n",
       "      <td>-0.109082</td>\n",
       "      <td>-0.234129</td>\n",
       "      <td>-0.247116</td>\n",
       "      <td>-0.193386</td>\n",
       "      <td>0.047101</td>\n",
       "      <td>1.233180</td>\n",
       "      <td>-1.076738</td>\n",
       "      <td>-0.196344</td>\n",
       "      <td>-0.839738</td>\n",
       "      <td>1.256382</td>\n",
       "      <td>...</td>\n",
       "      <td>1.412312</td>\n",
       "      <td>0.148543</td>\n",
       "      <td>0.575096</td>\n",
       "      <td>1.612048</td>\n",
       "      <td>-1.331997</td>\n",
       "      <td>-0.769922</td>\n",
       "      <td>1.779121</td>\n",
       "      <td>-0.374335</td>\n",
       "      <td>0.650130</td>\n",
       "      <td>1.665420</td>\n",
       "    </tr>\n",
       "    <tr>\n",
       "      <th>3</th>\n",
       "      <td>1.131682</td>\n",
       "      <td>-0.431762</td>\n",
       "      <td>0.897853</td>\n",
       "      <td>0.428756</td>\n",
       "      <td>0.141462</td>\n",
       "      <td>-0.614804</td>\n",
       "      <td>0.108003</td>\n",
       "      <td>0.038817</td>\n",
       "      <td>-0.168614</td>\n",
       "      <td>0.166181</td>\n",
       "      <td>...</td>\n",
       "      <td>0.057806</td>\n",
       "      <td>-1.865935</td>\n",
       "      <td>-0.045861</td>\n",
       "      <td>-0.001805</td>\n",
       "      <td>0.632434</td>\n",
       "      <td>-0.913189</td>\n",
       "      <td>-1.810592</td>\n",
       "      <td>-1.247178</td>\n",
       "      <td>0.494175</td>\n",
       "      <td>0.759797</td>\n",
       "    </tr>\n",
       "    <tr>\n",
       "      <th>4</th>\n",
       "      <td>0.483631</td>\n",
       "      <td>0.292195</td>\n",
       "      <td>-0.699785</td>\n",
       "      <td>0.674367</td>\n",
       "      <td>-0.859272</td>\n",
       "      <td>-1.273775</td>\n",
       "      <td>-0.245181</td>\n",
       "      <td>0.048892</td>\n",
       "      <td>0.364584</td>\n",
       "      <td>0.436274</td>\n",
       "      <td>...</td>\n",
       "      <td>-0.531473</td>\n",
       "      <td>0.222659</td>\n",
       "      <td>-0.215077</td>\n",
       "      <td>0.602773</td>\n",
       "      <td>-1.313194</td>\n",
       "      <td>0.084507</td>\n",
       "      <td>0.390671</td>\n",
       "      <td>-0.853200</td>\n",
       "      <td>0.389682</td>\n",
       "      <td>1.087814</td>\n",
       "    </tr>\n",
       "  </tbody>\n",
       "</table>\n",
       "<p>5 rows × 10000 columns</p>\n",
       "</div>"
      ],
      "text/plain": [
       "       0         1         2         3         4         5         6     \\\n",
       "0  1.390783 -0.210560 -1.807673  0.401675 -0.077134 -0.345899  0.146798   \n",
       "1  0.294475 -0.696747  0.737281  0.662788 -0.913559  1.636786 -0.387053   \n",
       "2 -0.109082 -0.234129 -0.247116 -0.193386  0.047101  1.233180 -1.076738   \n",
       "3  1.131682 -0.431762  0.897853  0.428756  0.141462 -0.614804  0.108003   \n",
       "4  0.483631  0.292195 -0.699785  0.674367 -0.859272 -1.273775 -0.245181   \n",
       "\n",
       "       7         8         9     ...      9990      9991      9992      9993  \\\n",
       "0  0.476016 -2.093404 -0.200939  ... -0.192376  1.757556 -0.204660  0.792893   \n",
       "1  0.782641 -1.135480 -0.125827  ...  1.347621 -0.367522 -0.608524 -1.658484   \n",
       "2 -0.196344 -0.839738  1.256382  ...  1.412312  0.148543  0.575096  1.612048   \n",
       "3  0.038817 -0.168614  0.166181  ...  0.057806 -1.865935 -0.045861 -0.001805   \n",
       "4  0.048892  0.364584  0.436274  ... -0.531473  0.222659 -0.215077  0.602773   \n",
       "\n",
       "       9994      9995      9996      9997      9998      9999  \n",
       "0  0.248281 -1.006756  1.416199  0.000488  0.324248  1.762067  \n",
       "1 -0.790154  0.812665  0.613166  0.987125  0.876881 -0.547057  \n",
       "2 -1.331997 -0.769922  1.779121 -0.374335  0.650130  1.665420  \n",
       "3  0.632434 -0.913189 -1.810592 -1.247178  0.494175  0.759797  \n",
       "4 -1.313194  0.084507  0.390671 -0.853200  0.389682  1.087814  \n",
       "\n",
       "[5 rows x 10000 columns]"
      ]
     },
     "execution_count": 71,
     "metadata": {},
     "output_type": "execute_result"
    }
   ],
   "source": [
    "import pandas as pd\n",
    "pd.DataFrame(X)"
   ]
  },
  {
   "cell_type": "code",
   "execution_count": null,
   "metadata": {},
   "outputs": [],
   "source": []
  }
 ],
 "metadata": {
  "kernelspec": {
   "display_name": "python38",
   "language": "python",
   "name": "python38"
  },
  "language_info": {
   "codemirror_mode": {
    "name": "ipython",
    "version": 3
   },
   "file_extension": ".py",
   "mimetype": "text/x-python",
   "name": "python",
   "nbconvert_exporter": "python",
   "pygments_lexer": "ipython3",
   "version": "3.8.0"
  }
 },
 "nbformat": 4,
 "nbformat_minor": 4
}
