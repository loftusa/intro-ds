{
 "cells": [
  {
   "cell_type": "markdown",
   "metadata": {},
   "source": [
    "<hr/>\n",
    "\n",
    "# Intro to Data Science\n",
    "\n",
    "<hr/>"
   ]
  },
  {
   "cell_type": "markdown",
   "metadata": {},
   "source": [
    "<h2><font color=\"darkblue\">Exam 1</font></h2>\n",
    "\n",
    "#### Deadline\n",
    "Submit by 1:15pm on Blackboard. Don't wait till the last minute!\n",
    "\n",
    "#### Python packages\n",
    "\n",
    "Use only the `numpy` and `matplotlib` routines for calculations and plotting. \n",
    "You may also use the `pandas` package for data access and manipulation via the `DataFrame`, if needed.\n",
    "\n",
    "####  Work alone!\n",
    "Feel free to use the lecture notes and other resources but work on your own!  \n",
    "\n"
   ]
  },
  {
   "cell_type": "code",
   "execution_count": 1,
   "metadata": {},
   "outputs": [
    {
     "name": "stdout",
     "output_type": "stream",
     "text": [
      "Populating the interactive namespace from numpy and matplotlib\n"
     ]
    }
   ],
   "source": [
    "%pylab inline"
   ]
  },
  {
   "cell_type": "markdown",
   "metadata": {},
   "source": [
    "### Problem 1\n",
    "\n",
    "The attached [CSV](E1-Problem.csv) file contains 3 columns $(x,y,z)$ and hundreds of rows. Visualize and describe the dataset to gain some insight. \n",
    "\n",
    "1. Plot the 3-D dataset from different points of view to gain some insight (2 pts)\n",
    "1. Calculate the sample averages of each column (2 pts)\n",
    "1. Calculate the sample variances of each column (2 pts)\n",
    "1. Calculate the skewness of each column (2 pts)\n",
    "1. Calculate the covariances (2 pts)\n",
    "1. Summarize your findings with your words (2 pts)\n",
    "\n",
    "Total of 12 points"
   ]
  },
  {
   "cell_type": "code",
   "execution_count": 2,
   "metadata": {
    "scrolled": true
   },
   "outputs": [
    {
     "name": "stdout",
     "output_type": "stream",
     "text": [
      "(443, 3)\n",
      "[[ 2.47256425  2.81373407 -0.08376469]\n",
      " [ 1.43989801  5.58015879  2.7262919 ]\n",
      " [ 3.52040404 -2.82204179  0.03644734]\n",
      " [ 2.72714421  0.02186873  2.13499988]\n",
      " [-1.71516436  2.88874526  1.12292944]]\n"
     ]
    },
    {
     "data": {
      "text/html": [
       "<div>\n",
       "<style scoped>\n",
       "    .dataframe tbody tr th:only-of-type {\n",
       "        vertical-align: middle;\n",
       "    }\n",
       "\n",
       "    .dataframe tbody tr th {\n",
       "        vertical-align: top;\n",
       "    }\n",
       "\n",
       "    .dataframe thead th {\n",
       "        text-align: right;\n",
       "    }\n",
       "</style>\n",
       "<table border=\"1\" class=\"dataframe\">\n",
       "  <thead>\n",
       "    <tr style=\"text-align: right;\">\n",
       "      <th></th>\n",
       "      <th>x</th>\n",
       "      <th>y</th>\n",
       "      <th>z</th>\n",
       "    </tr>\n",
       "  </thead>\n",
       "  <tbody>\n",
       "    <tr>\n",
       "      <th>0</th>\n",
       "      <td>2.472564</td>\n",
       "      <td>2.813734</td>\n",
       "      <td>-0.083765</td>\n",
       "    </tr>\n",
       "    <tr>\n",
       "      <th>1</th>\n",
       "      <td>1.439898</td>\n",
       "      <td>5.580159</td>\n",
       "      <td>2.726292</td>\n",
       "    </tr>\n",
       "    <tr>\n",
       "      <th>2</th>\n",
       "      <td>3.520404</td>\n",
       "      <td>-2.822042</td>\n",
       "      <td>0.036447</td>\n",
       "    </tr>\n",
       "    <tr>\n",
       "      <th>3</th>\n",
       "      <td>2.727144</td>\n",
       "      <td>0.021869</td>\n",
       "      <td>2.135000</td>\n",
       "    </tr>\n",
       "    <tr>\n",
       "      <th>4</th>\n",
       "      <td>-1.715164</td>\n",
       "      <td>2.888745</td>\n",
       "      <td>1.122929</td>\n",
       "    </tr>\n",
       "  </tbody>\n",
       "</table>\n",
       "</div>"
      ],
      "text/plain": [
       "          x         y         z\n",
       "0  2.472564  2.813734 -0.083765\n",
       "1  1.439898  5.580159  2.726292\n",
       "2  3.520404 -2.822042  0.036447\n",
       "3  2.727144  0.021869  2.135000\n",
       "4 -1.715164  2.888745  1.122929"
      ]
     },
     "execution_count": 2,
     "metadata": {},
     "output_type": "execute_result"
    }
   ],
   "source": [
    "import numpy as np\n",
    "import matplotlib.pyplot as plt\n",
    "import pandas as pd\n",
    "\n",
    "df = pd.read_csv('E1-Problem.csv')\n",
    "data = df.values # numpy array\n",
    "print (data.shape)\n",
    "print (data[:5])\n",
    "df.head()"
   ]
  },
  {
   "cell_type": "markdown",
   "metadata": {},
   "source": [
    "## Problem 2\n",
    "\n",
    "Use generalized linear regression to fit $z$ using the following family of functions, \n",
    "\n",
    "> $\\displaystyle f(x,y;\\boldsymbol{\\beta}) = \\sum_k \\beta_k \\,\\phi_k(x,y)$\n",
    "> <br>\n",
    "> where\n",
    "> <br>\n",
    "> $\\displaystyle \\phi_0(x,y) = 1$\n",
    "> <br>\n",
    "> $\\displaystyle \\phi_1(x,y) = x$\n",
    "> <br>\n",
    "> $\\displaystyle \\phi_2(x,y) = y$\n",
    "> <br>\n",
    "> $\\displaystyle \\phi_3(x,y) = \\sin(x)$\n",
    "> <br>\n",
    "> $\\displaystyle \\phi_4(x,y) = \\cos(x)$\n",
    "> <br>\n",
    "> $\\displaystyle \\phi_5(x,y) = \\sin(y)$\n",
    "> <br>\n",
    "> $\\displaystyle \\phi_6(x,y) = \\cos(y)$\n",
    "\n",
    "\n",
    "1. Construct the design matrix `X` from the given dataframe `df` for the above problem (3 pts)\n",
    "2. Derive the best $\\hat{\\boldsymbol{\\beta}}$ coefficients (3 pts)\n",
    "3. Derive the estimated values $\\hat{z}_i=f(x_i,y_i;\\hat{\\boldsymbol{\\beta}})$ for each data point $i$ (2 pts)\n",
    "3. Plot the histogram of the $\\{(z_i\\!-\\!\\hat{z}_i)\\}$ residuals (2 pts)\n",
    "4. Based on the best fit, estimate the $\\hat{z}$ at the origin of the $x\\!-\\!y$ plane, i.e., calculate the $f(0,0;\\hat{\\boldsymbol{\\beta}})$ value (3 pts)\n",
    "\n",
    "Total of 13 points"
   ]
  },
  {
   "cell_type": "code",
   "execution_count": null,
   "metadata": {},
   "outputs": [],
   "source": []
  }
 ],
 "metadata": {
  "kernelspec": {
   "display_name": "Python 3",
   "language": "python",
   "name": "python3"
  },
  "language_info": {
   "codemirror_mode": {
    "name": "ipython",
    "version": 3
   },
   "file_extension": ".py",
   "mimetype": "text/x-python",
   "name": "python",
   "nbconvert_exporter": "python",
   "pygments_lexer": "ipython3",
   "version": "3.7.3"
  }
 },
 "nbformat": 4,
 "nbformat_minor": 4
}
